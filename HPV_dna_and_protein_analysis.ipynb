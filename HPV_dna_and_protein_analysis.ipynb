{
  "metadata": {
    "kernelspec": {
      "language": "python",
      "display_name": "Python 3",
      "name": "python3"
    },
    "language_info": {
      "pygments_lexer": "ipython3",
      "nbconvert_exporter": "python",
      "version": "3.6.4",
      "file_extension": ".py",
      "codemirror_mode": {
        "name": "ipython",
        "version": 3
      },
      "name": "python",
      "mimetype": "text/x-python"
    },
    "colab": {
      "provenance": []
    }
  },
  "nbformat_minor": 0,
  "nbformat": 4,
  "cells": [
    {
      "cell_type": "markdown",
      "source": [
        "#**BioPython**\n",
        "The Biopython Project is a global collaboration of developers who create freely available [Python](https://www.python.org) tools for computational molecular biology. Python is a versatile, interpreted programming language that is gaining popularity in scientific computing. It offers an object-oriented approach, a clear syntax, and can be extended with modules written in languages like C, C++, or FORTRAN."
      ],
      "metadata": {
        "id": "HYVLVUEZPtLE"
      }
    },
    {
      "cell_type": "code",
      "source": [
        "!pip install nglview"
      ],
      "metadata": {
        "colab": {
          "base_uri": "https://localhost:8080/"
        },
        "id": "iacoBHtoSDYS",
        "outputId": "d9ad481b-0bd0-4c08-d9f5-ef2b6cc60fe4"
      },
      "execution_count": 18,
      "outputs": [
        {
          "output_type": "stream",
          "name": "stdout",
          "text": [
            "Requirement already satisfied: nglview in /usr/local/lib/python3.10/dist-packages (3.0.6)\n",
            "Requirement already satisfied: ipywidgets>=7 in /usr/local/lib/python3.10/dist-packages (from nglview) (7.7.1)\n",
            "Requirement already satisfied: jupyterlab-widgets in /usr/local/lib/python3.10/dist-packages (from nglview) (3.0.8)\n",
            "Requirement already satisfied: numpy in /usr/local/lib/python3.10/dist-packages (from nglview) (1.22.4)\n",
            "Requirement already satisfied: ipykernel>=4.5.1 in /usr/local/lib/python3.10/dist-packages (from ipywidgets>=7->nglview) (5.5.6)\n",
            "Requirement already satisfied: ipython-genutils~=0.2.0 in /usr/local/lib/python3.10/dist-packages (from ipywidgets>=7->nglview) (0.2.0)\n",
            "Requirement already satisfied: traitlets>=4.3.1 in /usr/local/lib/python3.10/dist-packages (from ipywidgets>=7->nglview) (5.7.1)\n",
            "Requirement already satisfied: widgetsnbextension~=3.6.0 in /usr/local/lib/python3.10/dist-packages (from ipywidgets>=7->nglview) (3.6.4)\n",
            "Requirement already satisfied: ipython>=4.0.0 in /usr/local/lib/python3.10/dist-packages (from ipywidgets>=7->nglview) (7.34.0)\n",
            "Requirement already satisfied: jupyter-client in /usr/local/lib/python3.10/dist-packages (from ipykernel>=4.5.1->ipywidgets>=7->nglview) (6.1.12)\n",
            "Requirement already satisfied: tornado>=4.2 in /usr/local/lib/python3.10/dist-packages (from ipykernel>=4.5.1->ipywidgets>=7->nglview) (6.3.1)\n",
            "Requirement already satisfied: setuptools>=18.5 in /usr/local/lib/python3.10/dist-packages (from ipython>=4.0.0->ipywidgets>=7->nglview) (67.7.2)\n",
            "Requirement already satisfied: jedi>=0.16 in /usr/local/lib/python3.10/dist-packages (from ipython>=4.0.0->ipywidgets>=7->nglview) (0.18.2)\n",
            "Requirement already satisfied: decorator in /usr/local/lib/python3.10/dist-packages (from ipython>=4.0.0->ipywidgets>=7->nglview) (4.4.2)\n",
            "Requirement already satisfied: pickleshare in /usr/local/lib/python3.10/dist-packages (from ipython>=4.0.0->ipywidgets>=7->nglview) (0.7.5)\n",
            "Requirement already satisfied: prompt-toolkit!=3.0.0,!=3.0.1,<3.1.0,>=2.0.0 in /usr/local/lib/python3.10/dist-packages (from ipython>=4.0.0->ipywidgets>=7->nglview) (3.0.39)\n",
            "Requirement already satisfied: pygments in /usr/local/lib/python3.10/dist-packages (from ipython>=4.0.0->ipywidgets>=7->nglview) (2.14.0)\n",
            "Requirement already satisfied: backcall in /usr/local/lib/python3.10/dist-packages (from ipython>=4.0.0->ipywidgets>=7->nglview) (0.2.0)\n",
            "Requirement already satisfied: matplotlib-inline in /usr/local/lib/python3.10/dist-packages (from ipython>=4.0.0->ipywidgets>=7->nglview) (0.1.6)\n",
            "Requirement already satisfied: pexpect>4.3 in /usr/local/lib/python3.10/dist-packages (from ipython>=4.0.0->ipywidgets>=7->nglview) (4.8.0)\n",
            "Requirement already satisfied: notebook>=4.4.1 in /usr/local/lib/python3.10/dist-packages (from widgetsnbextension~=3.6.0->ipywidgets>=7->nglview) (6.4.8)\n",
            "Requirement already satisfied: parso<0.9.0,>=0.8.0 in /usr/local/lib/python3.10/dist-packages (from jedi>=0.16->ipython>=4.0.0->ipywidgets>=7->nglview) (0.8.3)\n",
            "Requirement already satisfied: jinja2 in /usr/local/lib/python3.10/dist-packages (from notebook>=4.4.1->widgetsnbextension~=3.6.0->ipywidgets>=7->nglview) (3.1.2)\n",
            "Requirement already satisfied: pyzmq>=17 in /usr/local/lib/python3.10/dist-packages (from notebook>=4.4.1->widgetsnbextension~=3.6.0->ipywidgets>=7->nglview) (23.2.1)\n",
            "Requirement already satisfied: argon2-cffi in /usr/local/lib/python3.10/dist-packages (from notebook>=4.4.1->widgetsnbextension~=3.6.0->ipywidgets>=7->nglview) (21.3.0)\n",
            "Requirement already satisfied: jupyter-core>=4.6.1 in /usr/local/lib/python3.10/dist-packages (from notebook>=4.4.1->widgetsnbextension~=3.6.0->ipywidgets>=7->nglview) (5.3.1)\n",
            "Requirement already satisfied: nbformat in /usr/local/lib/python3.10/dist-packages (from notebook>=4.4.1->widgetsnbextension~=3.6.0->ipywidgets>=7->nglview) (5.9.1)\n",
            "Requirement already satisfied: nbconvert in /usr/local/lib/python3.10/dist-packages (from notebook>=4.4.1->widgetsnbextension~=3.6.0->ipywidgets>=7->nglview) (6.5.4)\n",
            "Requirement already satisfied: nest-asyncio>=1.5 in /usr/local/lib/python3.10/dist-packages (from notebook>=4.4.1->widgetsnbextension~=3.6.0->ipywidgets>=7->nglview) (1.5.6)\n",
            "Requirement already satisfied: Send2Trash>=1.8.0 in /usr/local/lib/python3.10/dist-packages (from notebook>=4.4.1->widgetsnbextension~=3.6.0->ipywidgets>=7->nglview) (1.8.2)\n",
            "Requirement already satisfied: terminado>=0.8.3 in /usr/local/lib/python3.10/dist-packages (from notebook>=4.4.1->widgetsnbextension~=3.6.0->ipywidgets>=7->nglview) (0.17.1)\n",
            "Requirement already satisfied: prometheus-client in /usr/local/lib/python3.10/dist-packages (from notebook>=4.4.1->widgetsnbextension~=3.6.0->ipywidgets>=7->nglview) (0.17.1)\n",
            "Requirement already satisfied: python-dateutil>=2.1 in /usr/local/lib/python3.10/dist-packages (from jupyter-client->ipykernel>=4.5.1->ipywidgets>=7->nglview) (2.8.2)\n",
            "Requirement already satisfied: ptyprocess>=0.5 in /usr/local/lib/python3.10/dist-packages (from pexpect>4.3->ipython>=4.0.0->ipywidgets>=7->nglview) (0.7.0)\n",
            "Requirement already satisfied: wcwidth in /usr/local/lib/python3.10/dist-packages (from prompt-toolkit!=3.0.0,!=3.0.1,<3.1.0,>=2.0.0->ipython>=4.0.0->ipywidgets>=7->nglview) (0.2.6)\n",
            "Requirement already satisfied: platformdirs>=2.5 in /usr/local/lib/python3.10/dist-packages (from jupyter-core>=4.6.1->notebook>=4.4.1->widgetsnbextension~=3.6.0->ipywidgets>=7->nglview) (3.8.1)\n",
            "Requirement already satisfied: six>=1.5 in /usr/local/lib/python3.10/dist-packages (from python-dateutil>=2.1->jupyter-client->ipykernel>=4.5.1->ipywidgets>=7->nglview) (1.16.0)\n",
            "Requirement already satisfied: argon2-cffi-bindings in /usr/local/lib/python3.10/dist-packages (from argon2-cffi->notebook>=4.4.1->widgetsnbextension~=3.6.0->ipywidgets>=7->nglview) (21.2.0)\n",
            "Requirement already satisfied: MarkupSafe>=2.0 in /usr/local/lib/python3.10/dist-packages (from jinja2->notebook>=4.4.1->widgetsnbextension~=3.6.0->ipywidgets>=7->nglview) (2.1.3)\n",
            "Requirement already satisfied: lxml in /usr/local/lib/python3.10/dist-packages (from nbconvert->notebook>=4.4.1->widgetsnbextension~=3.6.0->ipywidgets>=7->nglview) (4.9.3)\n",
            "Requirement already satisfied: beautifulsoup4 in /usr/local/lib/python3.10/dist-packages (from nbconvert->notebook>=4.4.1->widgetsnbextension~=3.6.0->ipywidgets>=7->nglview) (4.11.2)\n",
            "Requirement already satisfied: bleach in /usr/local/lib/python3.10/dist-packages (from nbconvert->notebook>=4.4.1->widgetsnbextension~=3.6.0->ipywidgets>=7->nglview) (6.0.0)\n",
            "Requirement already satisfied: defusedxml in /usr/local/lib/python3.10/dist-packages (from nbconvert->notebook>=4.4.1->widgetsnbextension~=3.6.0->ipywidgets>=7->nglview) (0.7.1)\n",
            "Requirement already satisfied: entrypoints>=0.2.2 in /usr/local/lib/python3.10/dist-packages (from nbconvert->notebook>=4.4.1->widgetsnbextension~=3.6.0->ipywidgets>=7->nglview) (0.4)\n",
            "Requirement already satisfied: jupyterlab-pygments in /usr/local/lib/python3.10/dist-packages (from nbconvert->notebook>=4.4.1->widgetsnbextension~=3.6.0->ipywidgets>=7->nglview) (0.2.2)\n",
            "Requirement already satisfied: mistune<2,>=0.8.1 in /usr/local/lib/python3.10/dist-packages (from nbconvert->notebook>=4.4.1->widgetsnbextension~=3.6.0->ipywidgets>=7->nglview) (0.8.4)\n",
            "Requirement already satisfied: nbclient>=0.5.0 in /usr/local/lib/python3.10/dist-packages (from nbconvert->notebook>=4.4.1->widgetsnbextension~=3.6.0->ipywidgets>=7->nglview) (0.8.0)\n",
            "Requirement already satisfied: packaging in /usr/local/lib/python3.10/dist-packages (from nbconvert->notebook>=4.4.1->widgetsnbextension~=3.6.0->ipywidgets>=7->nglview) (23.1)\n",
            "Requirement already satisfied: pandocfilters>=1.4.1 in /usr/local/lib/python3.10/dist-packages (from nbconvert->notebook>=4.4.1->widgetsnbextension~=3.6.0->ipywidgets>=7->nglview) (1.5.0)\n",
            "Requirement already satisfied: tinycss2 in /usr/local/lib/python3.10/dist-packages (from nbconvert->notebook>=4.4.1->widgetsnbextension~=3.6.0->ipywidgets>=7->nglview) (1.2.1)\n",
            "Requirement already satisfied: fastjsonschema in /usr/local/lib/python3.10/dist-packages (from nbformat->notebook>=4.4.1->widgetsnbextension~=3.6.0->ipywidgets>=7->nglview) (2.17.1)\n",
            "Requirement already satisfied: jsonschema>=2.6 in /usr/local/lib/python3.10/dist-packages (from nbformat->notebook>=4.4.1->widgetsnbextension~=3.6.0->ipywidgets>=7->nglview) (4.3.3)\n",
            "Requirement already satisfied: attrs>=17.4.0 in /usr/local/lib/python3.10/dist-packages (from jsonschema>=2.6->nbformat->notebook>=4.4.1->widgetsnbextension~=3.6.0->ipywidgets>=7->nglview) (23.1.0)\n",
            "Requirement already satisfied: pyrsistent!=0.17.0,!=0.17.1,!=0.17.2,>=0.14.0 in /usr/local/lib/python3.10/dist-packages (from jsonschema>=2.6->nbformat->notebook>=4.4.1->widgetsnbextension~=3.6.0->ipywidgets>=7->nglview) (0.19.3)\n",
            "Requirement already satisfied: cffi>=1.0.1 in /usr/local/lib/python3.10/dist-packages (from argon2-cffi-bindings->argon2-cffi->notebook>=4.4.1->widgetsnbextension~=3.6.0->ipywidgets>=7->nglview) (1.15.1)\n",
            "Requirement already satisfied: soupsieve>1.2 in /usr/local/lib/python3.10/dist-packages (from beautifulsoup4->nbconvert->notebook>=4.4.1->widgetsnbextension~=3.6.0->ipywidgets>=7->nglview) (2.4.1)\n",
            "Requirement already satisfied: webencodings in /usr/local/lib/python3.10/dist-packages (from bleach->nbconvert->notebook>=4.4.1->widgetsnbextension~=3.6.0->ipywidgets>=7->nglview) (0.5.1)\n",
            "Requirement already satisfied: pycparser in /usr/local/lib/python3.10/dist-packages (from cffi>=1.0.1->argon2-cffi-bindings->argon2-cffi->notebook>=4.4.1->widgetsnbextension~=3.6.0->ipywidgets>=7->nglview) (2.21)\n"
          ]
        }
      ]
    },
    {
      "cell_type": "code",
      "source": [
        "!pip install biopython\n"
      ],
      "metadata": {
        "colab": {
          "base_uri": "https://localhost:8080/"
        },
        "id": "XHfJXqgISB5B",
        "outputId": "2a2cefbd-dca3-4bb0-ead7-9d20e697f43c"
      },
      "execution_count": 19,
      "outputs": [
        {
          "output_type": "stream",
          "name": "stdout",
          "text": [
            "Requirement already satisfied: biopython in /usr/local/lib/python3.10/dist-packages (1.81)\n",
            "Requirement already satisfied: numpy in /usr/local/lib/python3.10/dist-packages (from biopython) (1.22.4)\n"
          ]
        }
      ]
    },
    {
      "cell_type": "code",
      "source": [
        "import Bio\n",
        "from Bio.Seq import Seq\n",
        "from Bio.SeqRecord import SeqRecord\n",
        "from Bio import SeqIO\n",
        "from Bio import AlignIO\n",
        "from Bio.pairwise2 import format_alignment\n",
        "from Bio.Align import MultipleSeqAlignment\n",
        "from Bio.Blast import NCBIWWW\n",
        "from Bio.SeqUtils.ProtParam import ProteinAnalysis\n",
        "from Bio.Data import CodonTable\n",
        "import nglview as nv"
      ],
      "metadata": {
        "_uuid": "d629ff2d2480ee46fbb7e2d37f6b5fab8052498a",
        "_cell_guid": "79c7e3d0-c299-4dcb-8224-4455121ee9b0",
        "trusted": true,
        "id": "azWRY4UfPtLE"
      },
      "execution_count": 20,
      "outputs": []
    },
    {
      "cell_type": "code",
      "source": [
        "import matplotlib.pyplot as plt\n",
        "import seaborn as sns\n",
        "import pandas as pd\n",
        "import numpy as np"
      ],
      "metadata": {
        "id": "ZoIvBH8oSeTL"
      },
      "execution_count": 21,
      "outputs": []
    },
    {
      "cell_type": "code",
      "source": [
        "!pip install colorama\n",
        "from colorama import Back, Style, Fore"
      ],
      "metadata": {
        "colab": {
          "base_uri": "https://localhost:8080/"
        },
        "id": "PC-ooR7uS1m4",
        "outputId": "31d5f23c-cf5b-4585-a0b3-5ab6fa287b53"
      },
      "execution_count": 23,
      "outputs": [
        {
          "output_type": "stream",
          "name": "stdout",
          "text": [
            "Requirement already satisfied: colorama in /usr/local/lib/python3.10/dist-packages (0.4.6)\n"
          ]
        }
      ]
    },
    {
      "cell_type": "markdown",
      "source": [
        "#**DNA**\n",
        "DNA, short for **deoxyribonucleic acid**, is the fundamental genetic material that holds the blueprint for all the traits and features of living organisms. It is composed of building blocks called, which consist of a sugar and a phosphate molecule forming the DNA backbone, along with one of four organic bases: adenine (**A**), guanine (**G**), cytosine (**C**), and thymine (**T**)."
      ],
      "metadata": {
        "id": "ErvulklFPtLG"
      }
    },
    {
      "cell_type": "markdown",
      "source": [
        "The `SeqIO.parse` function in Biopython expects a local file path as the first argument. It cannot directly analyze a remote file from a URL. To resolve this, you can download the file from the GitHub URL and save it locally, then provide the local file path to `SeqIO.parse`."
      ],
      "metadata": {
        "id": "_sqE7Za_cBmS"
      }
    },
    {
      "cell_type": "code",
      "source": [
        "import urllib.request\n",
        "from Bio import SeqIO\n",
        "\n",
        "# Download the file from the GitHub URL and save it locally\n",
        "url = \"https://raw.githubusercontent.com/JesicaAllende/CB-Bio/main/HPV16_genome.fasta\"\n",
        "local_file = \"HPV16_genome.fasta\"\n",
        "urllib.request.urlretrieve(url, local_file)\n",
        "\n",
        "# Review the local file using SeqIO.parse\n",
        "for record in SeqIO.parse(local_file, \"fasta\"):\n",
        "    print(record.id)"
      ],
      "metadata": {
        "trusted": true,
        "colab": {
          "base_uri": "https://localhost:8080/"
        },
        "id": "Yn4i_iV4PtLG",
        "outputId": "37fd43a1-8286-4b7f-d177-748d66e99af2"
      },
      "execution_count": 41,
      "outputs": [
        {
          "output_type": "stream",
          "name": "stdout",
          "text": [
            "NC001526_A1\n",
            "KU053861_A1\n",
            "KU053833_A1\n",
            "KU053879_A1\n",
            "KU053829_A1\n",
            "AF536179_A2\n",
            "KU053897_A2\n",
            "KU053900_A2\n",
            "KU053899_A2\n",
            "KU053901_A2\n",
            "HQ644236_A3\n",
            "HQ644245_A3\n",
            "HQ644246_A3\n",
            "AF534061_A4\n",
            "KU053904_A4\n",
            "KU053905_A4\n",
            "HQ644261_A4\n",
            "HQ644234_A4\n",
            "AF536180_B1\n",
            "KU053908_B1\n",
            "KU053906_B1\n",
            "KU053907_B1\n",
            "AF472508_B1\n",
            "HQ644298_B2\n",
            "KU053915_B2\n",
            "KU053910_B3\n",
            "KU053909_B3\n",
            "KU053914_B4\n",
            "KU053913_B4\n",
            "KU053911_B4\n",
            "KU053912_B4\n",
            "AF472509_C1\n",
            "HQ644249_C1\n",
            "KU053917_C1\n",
            "HQ644292_C1\n",
            "HQ644291_C1\n",
            "HQ644244_C2\n",
            "KU053921_C3\n",
            "HQ644243_C3\n",
            "KU053920_C3\n",
            "KU053925_C4\n",
            "KU053922_C4\n",
            "KU053923_C4\n",
            "KU053924_C4\n",
            "HQ644257_D1\n",
            "KU053927_D1\n",
            "KU053930_D1\n",
            "KU053929_D1\n",
            "KU053928_D1\n",
            "AY686579_D2\n",
            "HQ644263_D2\n",
            "KU053935_D2\n",
            "HQ644281_D2\n",
            "HQ644277_D2\n",
            "AF402678_D3\n",
            "KU053944_D3\n",
            "HQ644295_D3\n",
            "KU053943_D3\n",
            "HQ644289_D3\n",
            "KU053933_D4\n",
            "KU053931_D4\n",
            "KU053934_D4\n",
            "KU053932_D4\n"
          ]
        }
      ]
    },
    {
      "cell_type": "markdown",
      "source": [
        "Loading the FASTA file"
      ],
      "metadata": {
        "id": "4AtvoiCKPtLH"
      }
    },
    {
      "cell_type": "code",
      "source": [
        "from Bio import SeqIO\n",
        "import requests\n",
        "\n",
        "url = \"https://raw.githubusercontent.com/JesicaAllende/CB-Bio/main/HPV16_genome.fasta\"\n",
        "response = requests.get(url)\n",
        "\n",
        "with open(\"HPV16_genome.fasta\", \"w\") as file:\n",
        "    file.write(response.text)\n",
        "\n",
        "records = SeqIO.parse(\"HPV16_genome.fasta\", \"fasta\")\n",
        "for record in records:\n",
        "    print(record)\n"
      ],
      "metadata": {
        "trusted": true,
        "colab": {
          "base_uri": "https://localhost:8080/"
        },
        "id": "YlXsqd1-PtLH",
        "outputId": "9c91a3d8-8578-4588-f4ed-2645dfc2d312"
      },
      "execution_count": 46,
      "outputs": [
        {
          "output_type": "stream",
          "name": "stdout",
          "text": [
            "ID: NC001526_A1\n",
            "Name: NC001526_A1\n",
            "Description: NC001526_A1\n",
            "Number of features: 0\n",
            "Seq('ATGGCTGATCCTGCAGGTACCAATGGGGAAGAGGGTACGGGATGTAATGGATGG...ACC')\n",
            "ID: KU053861_A1\n",
            "Name: KU053861_A1\n",
            "Description: KU053861_A1\n",
            "Number of features: 0\n",
            "Seq('ATGGCTGATCCTGCAGGTACCAATGGGGAAGAGGGTACGGGATGTAATGGATGG...ACC')\n",
            "ID: KU053833_A1\n",
            "Name: KU053833_A1\n",
            "Description: KU053833_A1\n",
            "Number of features: 0\n",
            "Seq('ATGGCTGATCCTGCAGGTACCAATGGGGAAGAGGGTACGGGATGTAATGGATGG...ACC')\n",
            "ID: KU053879_A1\n",
            "Name: KU053879_A1\n",
            "Description: KU053879_A1\n",
            "Number of features: 0\n",
            "Seq('ATGGCTGATCCTGCAGGTACCAATGGGGAAGAGGGTACGGGATGTAATGGATGG...ACC')\n",
            "ID: KU053829_A1\n",
            "Name: KU053829_A1\n",
            "Description: KU053829_A1\n",
            "Number of features: 0\n",
            "Seq('ATGGCTGATCCTGCAGGTACCAATGGGGAAGAGGGTACGGGATGTAATGGATGG...ACC')\n",
            "ID: AF536179_A2\n",
            "Name: AF536179_A2\n",
            "Description: AF536179_A2\n",
            "Number of features: 0\n",
            "Seq('ATGGCTGATCCTGCAGGTACCAATGGGGAAGAGGGTACGGGATGTAATGGATGG...ACC')\n",
            "ID: KU053897_A2\n",
            "Name: KU053897_A2\n",
            "Description: KU053897_A2\n",
            "Number of features: 0\n",
            "Seq('ATGGCTGATCCTGCAGGTACCAATGGGGAAGAGGGTACGGGATGTAATGGATGG...ACA')\n",
            "ID: KU053900_A2\n",
            "Name: KU053900_A2\n",
            "Description: KU053900_A2\n",
            "Number of features: 0\n",
            "Seq('ATGGCTGATCCTGCAGGTACCAATGGGGAAGAGGGTACGGGATGTAATGGATGG...ACC')\n",
            "ID: KU053899_A2\n",
            "Name: KU053899_A2\n",
            "Description: KU053899_A2\n",
            "Number of features: 0\n",
            "Seq('ATGGCTGATCCTGCAGGTACCAATGGGGAAGAGGGTACGGGATGTAATGGATGG...ATC')\n",
            "ID: KU053901_A2\n",
            "Name: KU053901_A2\n",
            "Description: KU053901_A2\n",
            "Number of features: 0\n",
            "Seq('ATGGCTGATCCTGCAGGTACCAATGGGGAAGAGGGTACGGGATGTAATGGATGG...ACC')\n",
            "ID: HQ644236_A3\n",
            "Name: HQ644236_A3\n",
            "Description: HQ644236_A3\n",
            "Number of features: 0\n",
            "Seq('ATGGCTGATCCTGCAGGTACCAATGGGGAAGAGGGTACGGGATGTAATGGATGG...ACC')\n",
            "ID: HQ644245_A3\n",
            "Name: HQ644245_A3\n",
            "Description: HQ644245_A3\n",
            "Number of features: 0\n",
            "Seq('ATGGCTGATCCTGCAGGTACCAATGGGGAAGAGGGTACGGGATGTAATGGATGG...ACC')\n",
            "ID: HQ644246_A3\n",
            "Name: HQ644246_A3\n",
            "Description: HQ644246_A3\n",
            "Number of features: 0\n",
            "Seq('ATGGCTGATCCTGCAGGTACCAATGGGGAAGAGGGTACGGGATGTAATGGATGG...ACC')\n",
            "ID: AF534061_A4\n",
            "Name: AF534061_A4\n",
            "Description: AF534061_A4\n",
            "Number of features: 0\n",
            "Seq('ATGGCTGATCCTGCAGGTACCAATGGGGAAGAGAGTACGGGATGTAATGGATGG...ACC')\n",
            "ID: KU053904_A4\n",
            "Name: KU053904_A4\n",
            "Description: KU053904_A4\n",
            "Number of features: 0\n",
            "Seq('ATGGCTGATCCTGCAGGTACCAATGGGGAAGAGGGTACGGGATGTAATGGATGG...ACC')\n",
            "ID: KU053905_A4\n",
            "Name: KU053905_A4\n",
            "Description: KU053905_A4\n",
            "Number of features: 0\n",
            "Seq('ATGGCTGATCCTGCAGGTACCAATGGGGAAGAGGGTACGGGATGTAATGGATGG...ACC')\n",
            "ID: HQ644261_A4\n",
            "Name: HQ644261_A4\n",
            "Description: HQ644261_A4\n",
            "Number of features: 0\n",
            "Seq('ATGGCTGATCCTGCAGGTACCAATGGGGAAGAGGGTACGGGATGTAATGGATGG...ACC')\n",
            "ID: HQ644234_A4\n",
            "Name: HQ644234_A4\n",
            "Description: HQ644234_A4\n",
            "Number of features: 0\n",
            "Seq('ATGGCTGATCCTGCAGGTACCAATGGGGAAGAGGGTACGGGATGTAATGGATGG...ACC')\n",
            "ID: AF536180_B1\n",
            "Name: AF536180_B1\n",
            "Description: AF536180_B1\n",
            "Number of features: 0\n",
            "Seq('ATGGCTGATCCTGCAGGTACCAATGGGGAAGAGGGTACGGGATGTAATGGATGG...ACC')\n",
            "ID: KU053908_B1\n",
            "Name: KU053908_B1\n",
            "Description: KU053908_B1\n",
            "Number of features: 0\n",
            "Seq('ATGGCTGATCCTGCAGGTACCAATGGGGAAGAGGGTACGGGATGTAATGGATGG...ACC')\n",
            "ID: KU053906_B1\n",
            "Name: KU053906_B1\n",
            "Description: KU053906_B1\n",
            "Number of features: 0\n",
            "Seq('ATGGCTGATCCTGCAGGTACCAATGGGGAAGAGGGTACGGGATGTAATGGATGG...ACC')\n",
            "ID: KU053907_B1\n",
            "Name: KU053907_B1\n",
            "Description: KU053907_B1\n",
            "Number of features: 0\n",
            "Seq('ATGGCTGATCCTGCAGGTACCAATGGGGAAGAGGGTACGGGATGTAATGGATGG...ACC')\n",
            "ID: AF472508_B1\n",
            "Name: AF472508_B1\n",
            "Description: AF472508_B1\n",
            "Number of features: 0\n",
            "Seq('ATGGCTGATCCTGCAGGTACCAATGGGGAAGAGGGTACGGGATGTAATGGATGG...ACC')\n",
            "ID: HQ644298_B2\n",
            "Name: HQ644298_B2\n",
            "Description: HQ644298_B2\n",
            "Number of features: 0\n",
            "Seq('ATGGCTGATCCTGCAGGTACCAATGGGGAAGAGGGTACGGGATGTAATGGATGG...ACC')\n",
            "ID: KU053915_B2\n",
            "Name: KU053915_B2\n",
            "Description: KU053915_B2\n",
            "Number of features: 0\n",
            "Seq('ATGGCTGATCCTGCAGGTACCAATGGGGAAGAGGGTACGGGATGTAATGGATGG...ACC')\n",
            "ID: KU053910_B3\n",
            "Name: KU053910_B3\n",
            "Description: KU053910_B3\n",
            "Number of features: 0\n",
            "Seq('ATGGCTGATCCTGCAGGTACCAATGGGGAAGAGGGTACGGGATGTAATGGATGG...ACC')\n",
            "ID: KU053909_B3\n",
            "Name: KU053909_B3\n",
            "Description: KU053909_B3\n",
            "Number of features: 0\n",
            "Seq('ATGGCTGATCCTGCAGGTACCAATGGGGAAGAGGGTACGGGATGTAATGGATGG...ACC')\n",
            "ID: KU053914_B4\n",
            "Name: KU053914_B4\n",
            "Description: KU053914_B4\n",
            "Number of features: 0\n",
            "Seq('ATGGCTGATCCTGCAGGTACCAATGGGGAAGAGGGTACGGGATGTAATGGATGG...ACC')\n",
            "ID: KU053913_B4\n",
            "Name: KU053913_B4\n",
            "Description: KU053913_B4\n",
            "Number of features: 0\n",
            "Seq('ATGGCTGATCCTGCAGGTACCAATGGGGAAGAGGGTACGGGATGTAATGGATGG...ACC')\n",
            "ID: KU053911_B4\n",
            "Name: KU053911_B4\n",
            "Description: KU053911_B4\n",
            "Number of features: 0\n",
            "Seq('ATGGCTGATCCTGCAGGTACCAATGGGGAAGAGGGTACGGGATGTAATGGATGG...ACC')\n",
            "ID: KU053912_B4\n",
            "Name: KU053912_B4\n",
            "Description: KU053912_B4\n",
            "Number of features: 0\n",
            "Seq('ATGGCTGATCCTGCAGGTACCAATGGGGAAGAGGGTACGGGATGTAATGGATGG...ACC')\n",
            "ID: AF472509_C1\n",
            "Name: AF472509_C1\n",
            "Description: AF472509_C1\n",
            "Number of features: 0\n",
            "Seq('ATGGCTGATCCTGCAGGTACCAATGGGGAAGAGGGTACGGGATGTAATGGATGG...ACC')\n",
            "ID: HQ644249_C1\n",
            "Name: HQ644249_C1\n",
            "Description: HQ644249_C1\n",
            "Number of features: 0\n",
            "Seq('ATGGCTGATCCTGCAGGTACCAATGGGGAAGAGGGTACGGGATGTAATGGATGG...ACC')\n",
            "ID: KU053917_C1\n",
            "Name: KU053917_C1\n",
            "Description: KU053917_C1\n",
            "Number of features: 0\n",
            "Seq('ATGGCTGATCCTGCAGGTACCAATGGGGAAGAGGGTACGGGATGTAATGGATGG...ACC')\n",
            "ID: HQ644292_C1\n",
            "Name: HQ644292_C1\n",
            "Description: HQ644292_C1\n",
            "Number of features: 0\n",
            "Seq('ATGGCTGATCCTGCAGGTACCAATGGGGAAGAGGGTACGGGATGTAATGGATGG...ACC')\n",
            "ID: HQ644291_C1\n",
            "Name: HQ644291_C1\n",
            "Description: HQ644291_C1\n",
            "Number of features: 0\n",
            "Seq('ATGGCTGATCCTGCAGGTACCAATGGGGAAGAGGGTACGGGATGTAATGGATGG...ACC')\n",
            "ID: HQ644244_C2\n",
            "Name: HQ644244_C2\n",
            "Description: HQ644244_C2\n",
            "Number of features: 0\n",
            "Seq('ATGGCCGATCCTGCAGGTACCAATGGGGAAGAGGGTACGGGATGTAATGGATGG...ACC')\n",
            "ID: KU053921_C3\n",
            "Name: KU053921_C3\n",
            "Description: KU053921_C3\n",
            "Number of features: 0\n",
            "Seq('ATGGCTGATCCTGCAGGTACCAATGGGGAAGAGGGTACGGGATGTAATGGATGG...ACC')\n",
            "ID: HQ644243_C3\n",
            "Name: HQ644243_C3\n",
            "Description: HQ644243_C3\n",
            "Number of features: 0\n",
            "Seq('ATGGCTGATCCTGCAGGTACCAATGGGGAAGAGGGTACGGGATGTAATGGATGG...ACC')\n",
            "ID: KU053920_C3\n",
            "Name: KU053920_C3\n",
            "Description: KU053920_C3\n",
            "Number of features: 0\n",
            "Seq('ATGGCTGATCCTGCAGGTACCAATGGGGAAGAGGGTACGGGATGTAATGGATGG...ACC')\n",
            "ID: KU053925_C4\n",
            "Name: KU053925_C4\n",
            "Description: KU053925_C4\n",
            "Number of features: 0\n",
            "Seq('ATGGCTGATCCTGCAGGTACCAATGGGGAAGAGGGTACGGGATGTAATGGATGG...ACC')\n",
            "ID: KU053922_C4\n",
            "Name: KU053922_C4\n",
            "Description: KU053922_C4\n",
            "Number of features: 0\n",
            "Seq('ATGGCTGATCCTGCAGGTACCAATGGGGAAGAGGGTACGGGATGTAATGGATGG...ACC')\n",
            "ID: KU053923_C4\n",
            "Name: KU053923_C4\n",
            "Description: KU053923_C4\n",
            "Number of features: 0\n",
            "Seq('ATGGCTGATCCTGCAGGTACCAATGGGGAAGAGGGTACGGGATGTAATGGATGG...ACC')\n",
            "ID: KU053924_C4\n",
            "Name: KU053924_C4\n",
            "Description: KU053924_C4\n",
            "Number of features: 0\n",
            "Seq('ATGGCTGATCCTGCAGGTACCAATGGGGAAGAGGGTACGGGATGTAATGGATGG...ACC')\n",
            "ID: HQ644257_D1\n",
            "Name: HQ644257_D1\n",
            "Description: HQ644257_D1\n",
            "Number of features: 0\n",
            "Seq('ATGGCTGATCCTGCAGGTACCAATGGGGAAGAGGGTACGGGATGTAATGGATGG...ACC')\n",
            "ID: KU053927_D1\n",
            "Name: KU053927_D1\n",
            "Description: KU053927_D1\n",
            "Number of features: 0\n",
            "Seq('ATGGCTGATCCTGCAGGTACCAATGGGGAAGAGGGTACGGGATGTAATGGATGG...ACC')\n",
            "ID: KU053930_D1\n",
            "Name: KU053930_D1\n",
            "Description: KU053930_D1\n",
            "Number of features: 0\n",
            "Seq('ATGGCTGATCCTGCAGGTACCAATGGGGAAGAGGGTACGGGATGTAATGGATGG...ACC')\n",
            "ID: KU053929_D1\n",
            "Name: KU053929_D1\n",
            "Description: KU053929_D1\n",
            "Number of features: 0\n",
            "Seq('ATGGCTGATCCTGCAGGTACCAATGGGGAAGAGGGTACGGGATGTAATGGATGG...ACC')\n",
            "ID: KU053928_D1\n",
            "Name: KU053928_D1\n",
            "Description: KU053928_D1\n",
            "Number of features: 0\n",
            "Seq('ATGGCTGATCCTGTAGGTACCAATGGGGAAGAGGGTACGGGATGTAATGGATGG...ACC')\n",
            "ID: AY686579_D2\n",
            "Name: AY686579_D2\n",
            "Description: AY686579_D2\n",
            "Number of features: 0\n",
            "Seq('ATGGCTGATCCTGCAGGTACCAATGGGGAAGAGGGTACGGGATGTAATGGATGG...ACC')\n",
            "ID: HQ644263_D2\n",
            "Name: HQ644263_D2\n",
            "Description: HQ644263_D2\n",
            "Number of features: 0\n",
            "Seq('ATGGCTGATCCTGCAGGTACCAATGGGGAAGAGGGTACGGGATGTAATGGATGG...ACC')\n",
            "ID: KU053935_D2\n",
            "Name: KU053935_D2\n",
            "Description: KU053935_D2\n",
            "Number of features: 0\n",
            "Seq('ATGGCTGATCCTGCAGGTACCAATGGGGAAGAGGGTACGGGATGTAATGGATGG...ACC')\n",
            "ID: HQ644281_D2\n",
            "Name: HQ644281_D2\n",
            "Description: HQ644281_D2\n",
            "Number of features: 0\n",
            "Seq('ATGGCTGATCCTGCAGGTACCAATGGGGAAGAGGGTACGGGATGTAATGGATGG...ACC')\n",
            "ID: HQ644277_D2\n",
            "Name: HQ644277_D2\n",
            "Description: HQ644277_D2\n",
            "Number of features: 0\n",
            "Seq('ATGGCTGATCCTGCAGGTACCAATGGGGAAGAGGGTGCGGGATGTAATGGATGG...ACC')\n",
            "ID: AF402678_D3\n",
            "Name: AF402678_D3\n",
            "Description: AF402678_D3\n",
            "Number of features: 0\n",
            "Seq('ATGGCTGATCCTGCAGGTACCAATGGGGAAGAGGGTACGGGATGTAATGGATGG...ACC')\n",
            "ID: KU053944_D3\n",
            "Name: KU053944_D3\n",
            "Description: KU053944_D3\n",
            "Number of features: 0\n",
            "Seq('ATGGCTGATCCTGCAGGTACCAATGGGGAAGAGGGTACGGGATGTAATGGATGG...ACC')\n",
            "ID: HQ644295_D3\n",
            "Name: HQ644295_D3\n",
            "Description: HQ644295_D3\n",
            "Number of features: 0\n",
            "Seq('ATGGCTGATCCTGCAGGTACCAATGGGGAAGAGGGTACGGGATGTAATGGATGG...ACC')\n",
            "ID: KU053943_D3\n",
            "Name: KU053943_D3\n",
            "Description: KU053943_D3\n",
            "Number of features: 0\n",
            "Seq('ATGGCTGATCCTGCAGGTACCAATGGGGAAGAGGGTACGGGATGTAATGGATGG...ACC')\n",
            "ID: HQ644289_D3\n",
            "Name: HQ644289_D3\n",
            "Description: HQ644289_D3\n",
            "Number of features: 0\n",
            "Seq('ATGGCTGATCCTGCAGGTACCAATGGGGAAGAGGGTACGGGATGTAATGGATGG...ACC')\n",
            "ID: KU053933_D4\n",
            "Name: KU053933_D4\n",
            "Description: KU053933_D4\n",
            "Number of features: 0\n",
            "Seq('ATGGCTGATCCTGCAGGTACCAATGGGGAAGAGGGTACGGGATGTAATGGATGG...ACC')\n",
            "ID: KU053931_D4\n",
            "Name: KU053931_D4\n",
            "Description: KU053931_D4\n",
            "Number of features: 0\n",
            "Seq('ATGGCTGATCCTGCAGGTACCAATGGGGAAGAGGGTACGGGATGTAATGGATGG...ACC')\n",
            "ID: KU053934_D4\n",
            "Name: KU053934_D4\n",
            "Description: KU053934_D4\n",
            "Number of features: 0\n",
            "Seq('ATGGCTGATCCTGCAGGTACCAATGGGGAAGAGGGTACGGGATGTAATGGATGG...ACC')\n",
            "ID: KU053932_D4\n",
            "Name: KU053932_D4\n",
            "Description: KU053932_D4\n",
            "Number of features: 0\n",
            "Seq('ATGGCTGATCCTGCAGGTACCAATGGGGAAGAGGGTACGGGATGTAATGGATGG...ACC')\n"
          ]
        }
      ]
    },
    {
      "cell_type": "code",
      "source": [
        "from Bio import SeqIO\n",
        "import requests\n",
        "\n",
        "url = \"https://raw.githubusercontent.com/JesicaAllende/CB-Bio/main/HPV16_genome.fasta\"\n",
        "response = requests.get(url)\n",
        "\n",
        "with open(\"HPV16_genome.fasta\", \"w\") as file:\n",
        "    file.write(response.text)\n",
        "\n",
        "records = SeqIO.parse(\"HPV16_genome.fasta\", \"fasta\")\n",
        "ncov_record = next(records)  # Get the first record\n",
        "ncov_dna = ncov_record.seq\n",
        "print(ncov_dna)\n",
        "\n"
      ],
      "metadata": {
        "trusted": true,
        "colab": {
          "base_uri": "https://localhost:8080/"
        },
        "id": "e7HALkBKPtLH",
        "outputId": "e49bb74e-34dd-4a87-9ea8-18e095aaaaf8"
      },
      "execution_count": 48,
      "outputs": [
        {
          "output_type": "stream",
          "name": "stdout",
          "text": [
            "ATGGCTGATCCTGCAGGTACCAATGGGGAAGAGGGTACGGGATGTAATGGATGGTTTTATGTAGAGGCTGTAGTGGAAAAAAAAACAGGGGATGCTATATCAGATGACGAGAACGAAAATGACAGTGATACAGGTGAAGATTTGGTAGATTTTATAGTAAATGATAATGATTATTTAACACAGGCAGAAACAGAGACAGCACATGCGTTGTTTACTGCACAGGAAGCAAAACAACATAGAGATGCAGTACAGGTTCTAAAACGAAAGTATTTGGGTAGTCCACTTAGTGATATTAGTGGATGTGTAGACAATAATATTAGTCCTAGATTAAAAGCTATATGTATAGAAAAACAAAGTAGAGCTGCAAAAAGGAGATTATTTGAAAGCGAAGACAGCGGGTATGGCAATACTGAAGTGGAAACTCAGCAGATGTTACAGGTAGAAGGGCGCCATGAGACTGAAACACCATGTAGTCAGTATAGTGGTGGAAGTGGGGGTGGTTGCAGTCAGTACAGTAGTGGAAGTGGGGGAGAGGGTGTTAGTGAAAGACACACTATATGCCAAACACCACTTACAAATATTTTAAATGTACTAAAAACTAGTAATGCAAAGGCAGCAATGTTAGCAAAATTTAAAGAGTTATACGGGGTGAGTTTTTCAGAATTAGTAAGACCATTTAAAAGTAATAAATCAACGTGTTGCGATTGGTGTATTGCTGCATTTGGACTTACACCCAGTATAGCTGACAGTATAAAAACACTATTACAACAATATTGTTTATATTTACACATTCAAAGTTTAGCATGTTCATGGGGAATGGTTGTGTTACTATTAGTAAGATATAAATGTGGAAAAAATAGAGAAACAATTGAAAAATTGCTGTCTAAACTATTATGTGTGTCTCCAATGTGTATGATGATAGAGCCTCCAAAATTGCGTAGTACAGCAGCAGCATTATATTGGTATAAAACAGGTATATCAAATATTAGTGAAGTGTATGGAGACACGCCAGAATGGATACAAAGACAAACAGTATTACAACATAGTTTTAATGATTGTACATTTGAATTATCACAGATGGTACAATGGGCCTACGATAATGACATAGTAGACGATAGTGAAATTGCATATAAATATGCACAATTGGCAGACACTAATAGTAATGCAAGTGCCTTTCTAAAAAGTAATTCACAGGCAAAAATTGTAAAGGATTGTGCAACAATGTGTAGACATTATAAACGAGCAGAAAAAAAACAAATGAGTATGAGTCAATGGATAAAATATAGATGTGATAGGGTAGATGATGGAGGTGATTGGAAGCAAATTGTTATGTTTTTAAGGTATCAAGGTGTAGAGTTTATGTCATTTTTAACTGCATTAAAAAGATTTTTGCAAGGCATACCTAAAAAAAATTGCATATTACTATATGGTGCAGCTAACACAGGTAAATCATTATTTGGTATGAGTTTAATGAAATTTCTGCAAGGGTCTGTAATATGTTTTGTAAATTCTAAAAGCCATTTTTGGTTACAACCATTAGCAGATGCCAAAATAGGTATGTTAGATGATGCTACAGTGCCCTGTTGGAACTACATAGATGACAATTTAAGAAATGCATTGGATGGAAATTTAGTTTCTATGGATGTAAAGCATAGACCATTGGTACAACTAAAATGCCCTCCATTATTAATTACATCTAACATTAATGCTGGTACAGATTCTAGGTGGCCTTATTTACATAATAGATTGGTGGTGTTTACATTTCCTAATGAGTTTCCATTTGACGAAAACGGAAATCCAGTGTATGAGCTTAATGATAAGAACTGGAAATCCTTTTTCTCAAGGACGTGGTCCAGATTAAGTTTGCACGAGGACGAGGACAAGGAAAACGATGGAGACTCTTTGCCAACGTTTAAATGTGTGTCAGGACAAAATACTAACACATTATGAAAATGATAGTACAGACCTACGTGACCATATAGACTATTGGAAACACATGCGCCTAGAATGTGCTATTTATTACAAGGCCAGAGAAATGGGATTTAAACATATTAACCACCAGGTGGTGCCAACACTGGCTGTATCAAAGAATAAAGCATTACAAGCAATTGAACTGCAACTAACGTTAGAAACAATATATAACTCACAATATAGTAATGAAAAGTGGACATTACAAGACGTTAGCCTTGAAGTGTATTTAACTGCACCAACAGGATGTATAAAAAAACATGGATATACAGTGGAAGTGCAGTTTGATGGAGACATATGCAATACAATGCATTATACAAACTGGACACATATATATATTTGTGAAGAAGCATCAGTAACTGTGGTAGAGGGTCAAGTTGACTATTATGGTTTATATTATGTTCATGAAGGAATACGAACATATTTTGTGCAGTTTAAAGATGATGCAGAAAAATATAGTAAAAATAAAGTATGGGAAGTTCATGCGGGTGGTCAGGTAATATTATGTCCTACATCTGTGTTTAGCAGCAACGAAGTATCCTCTCCTGAAATTATTAGGCAGCACTTGGCCAACCACCCCGCCGCGACCCATACCAAAGCCGTCGCCTTGGGCACCGAAGAAACACAGACGACTATCCAGCGACCAAGATCAGAGCCAGACACCGGAAACCCCTGCCACACCACTAAGTTGTTGCACAGAGACTCAGTGGACAGTGCTCCAATCCTCACTGCATTTAACAGCTCACACAAAGGACGGATTAACTGTAATAGTAACACTACACCCATAGTACATTTAAAAGGTGATGCTAATACTTTAAAATGTTTAAGATATAGATTTAAAAAGCATTGTACATTGTATACTGCAGTGTCGTCTACATGGCATTGGACAGGACATAATGTAAAACATAAAAGTGCAATTGTTACACTTACATATGATAGTGAATGGCAACGTGACCAATTTTTGTCTCAAGTTAAAATACCAAAAACTATTACAGTGTCTACTGGATTTATGTCTATATGACAAATCTTGATACTGCATCCACAACATTACTGGCGTGCTTTTTGCTTTGCTTTTGTGTGCTTTTGTGTGTCTGCCTATTAATACGTCCGCTGCTTTTGTCTGTGTCTACATACACATCATTAATAATATTGGTATTACTATTGTGGATAACAGCAGCCTCTGCGTTTAGGTGTTTTATTGTATATATTATATTTGTTTATATACCATTATTTTTAATACATACACATGCACGCTTTTTAATTACATAATGTATATGTACATAATGTAATTGTTACATATAATTGTTGTATACCATAACTTACTATTTTTTCTTTTTTATTTTCATATATAATTTTTTTTTTTGTTTGTTTGTTTGTTTTTTAATAAACTGTTATTACTTAACAATGCGACACAAACGTTCTGCAAAACGCACAAAACGTGCATCGGCTACCCAACTTTATAAAACATGCAAACAGGCAGGTACATGTCCACCTGACATTATACCTAAGGTTGAAGGCAAAACTATTGCTGATCAAATATTACAATATGGAAGTATGGGTGTATTTTTTGGTGGGTTAGGAATTGGAACAGGGTCGGGTACAGGCGGACGCACTGGGTATATTCCATTGGGAACAAGGCCTCCCACAGCTACAGATACACTTGCTCCTGTAAGACCCCCTTTAACAGTAGATCCTGTGGGCCCTTCTGATCCTTCTATAGTTTCTTTAGTGGAAGAAACTAGTTTTATTGATGCTGGTGCACCAACATCTGTACCTTCCATTCCCCCAGATGTATCAGGATTTAGTATTACTACTTCAACTGATACCACACCTGCTATATTAGATATTAATAATACTGTTACTACTGTTACTACACATAATAATCCCACTTTCACTGACCCATCTGTATTGCAGCCTCCAACACCTGCAGAAACTGGAGGGCATTTTACACTTTCATCATCCACTATTAGTACACATAATTATGAAGAAATTCCTATGGATACATTTATTGTTAGCACAAACCCTAACACAGTAACTAGTAGCACACCCATACCAGGGTCTCGCCCAGTGGCACGCCTAGGATTATATAGTCGCACAACACAACAGGTTAAAGTTGTAGACCCTGCTTTTGTAACCACTCCCACTAAACTTATTACATATGATAATCCTGCATATGAAGGTATAGATGTGGATAATACATTATATTTTTCTAGTAATGATAATAGTATTAATATAGCTCCAGATCCTGACTTTTTGGATATAGTTGCTTTACATAGGCCAGCATTAACCTCTAGGCGTACTGGCATTAGGTACAGTAGAATTGGTAATAAACAAACACTACGTACTCGTAGTGGAAAATCTATAGGTGCTAAGGTACATTATTATTATGATTTAAGTACTATTGATCCTGCAGAAGAAATAGAATTACAAACTATAACACCTTCTACATATACTACCACTTCACATGCAGCCTCACCTACTTCTATTAATAATGGATTATATGATATTTATGCAGATGACTTTATTACAGATACTTCTACAACCCCGGTACCATCTGTACCCTCTACATCTTTATCAGGTTATATTCCTGCAAATACAACAATTCCTTTTGGTGGTGCATACAATATTCCTTTAGTATCAGGTCCTGATATACCCATTAATATAACTGACCAAGCTCCTTCATTAATTCCTATAGTTCCAGGGTCTCCACAATATACAATTATTGCTGATGCAGGTGACTTTTATTTACATCCTAGTTATTACATGTTACGAAAACGACGTAAACGTTTACCATATTTTTTTTCAGATGTCTCTTTGGCTGCCTAGTGAGGCCACTGTCTACTTGCCTCCTGTCCCAGTATCTAAGGTTGTAAGCACGGATGAATATGTTGCACGCACAAACATATATTATCATGCAGGAACATCCAGACTACTTGCAGTTGGACATCCCTATTTTCCTATTAAAAAACCTAACAATAACAAAATATTAGTTCCTAAAGTATCAGGATTACAATACAGGGTATTTAGAATACATTTACCTGACCCCAATAAGTTTGGTTTTCCTGACACCTCATTTTATAATCCAGATACACAGCGGCTGGTTTGGGCCTGTGTAGGTGTTGAGGTAGGTCGTGGTCAGCCATTAGGTGTGGGCATTAGTGGCCATCCTTTATTAAATAAATTGGATGACACAGAAAATGCTAGTGCTTATGCAGCAAATGCAGGTGTGGATAATAGAGAATGTATATCTATGGATTACAAACAAACACAATTGTGTTTAATTGGTTGCAAACCACCTATAGGGGAACACTGGGGCAAAGGATCCCCATGTACCAATGTTGCAGTAAATCCAGGTGATTGTCCACCATTAGAGTTAATAAACACAGTTATTCAGGATGGTGATATGGTTGATACTGGCTTTGGTGCTATGGACTTTACTACATTACAGGCTAACAAAAGTGAAGTTCCACTGGATATTTGTACATCTATTTGCAAATATCCAGATTATATTAAAATGGTGTCAGAACCATATGGCGACAGCTTATTTTTTTATTTACGAAGGGAACAAATGTTTGTTAGACATTTATTTAATAGGGCTGGTACTGTTGGTGAAAATGTACCAGACGATTTATACATTAAAGGCTCTGGGTCTACTGCAAATTTAGCCAGTTCAAATTATTTTCCTACACCTAGTGGTTCTATGGTTACCTCTGATGCCCAAATATTCAATAAACCTTATTGGTTACAACGAGCACAGGGCCACAATAATGGCATTTGTTGGGGTAACCAACTATTTGTTACTGTTGTTGATACTACACGCAGTACAAATATGTCATTATGTGCTGCCATATCTACTTCAGAAACTACATATAAAAATACTAACTTTAAGGAGTACCTACGACATGGGGAGGAATATGATTTACAGTTTATTTTTCAACTGTGCAAAATAACCTTAACTGCAGACGTTATGACATACATACATTCTATGAATTCCACTATTTTGGAGGACTGGAATTTTGGTCTACAACCTCCCCCAGGAGGCACACTAGAAGATACTTATAGGTTTGTAACATCCCAGGCAATTGCTTGTCAAAAACATACACCTCCAGCACCTAAAGAAGATCCCCTTAAAAAATACACTTTTTGGGAAGTAAATTTAAAGGAAAAGTTTTCTGCAGACCTAGATCAGTTTCCTTTAGGACGCAAATTTTTACTACAAGCAGGATTGAAGGCCAAACCAAAATTTACATTAGGAAAACGAAAAGCTACACCCACCACCTCATCTACCTCTACAACTGCTAAACGCAAAAAACGTAAGCTGTAAGTATTGTATGTATGTTGAATTAGTGTTGTTTGTTGTGTATATGTTTGTATGTGCTTGTATGTGCTTGTAAATATTAAGTTGTATGTGTGTTTGTATGTATGGTATAATAAACACGTGTGTATGTGTTTTTAAATGCTTGTGTAACTATTGTGTCATGCAACATAAATAAACTTATTGTTTCAACACCTACTAATTGTGTTGTGGTTATTCATTGTATATAAACTATATTTGCTACATCCTGTTTTTGTTTTATATATACTATATTTTGTAGCGCCAGCGGCCATTTTGTAGCTTCAACCGAATTCGGTTGCATGCTTTTTGGCACAAAATGTGTTTTTTTAAATAGTTCTATGTCAGCAACTATGGTTTAAACTTGTACGTTTCCTGCTTGCCATGCGTGCCAAATCCCTGTTTTCCTGACCTGCACTGCTTGCCAACCATTCCATTGTTTTTTACACTGCACTATGTGCAACTACTGAATCACTATGTACATTGTGTCATATAAAATAAATCACTATGCGCCAACGCCTTACATACCGCTGTTAGGCACATATTTTTGGCTTGTTTTAACTAACCTAATTGCATATTTGGCATAAGGTTTAAACTTCTAAGGCCAACTAAATGTCACCCTAGTTCATACATGAACTGTGTAAAGGTTAGTCATACATTGTTCATTTGTAAAACTGCACATGGGTGTGTGCAAACCGTTTTGGGTTACACATTTACAAGCAACTTATATAATAATACTAAACTACAATAATTCATGTATAAAACTAAGGGCGTAACCGAAATCGGTTGAACCGAAACCGGTTAGTATAAAAGCAGACATTTTATGCACCAAAAGAGAACTGCAATGTTTCAGGACCCACAGGAGCGACCCAGAAAGTTACCACAGTTATGCACAGAGCTGCAAACAACTATACATGATATAATATTAGAATGTGTGTACTGCAAGCAACAGTTACTGCGACGTGAGGTATATGACTTTGCTTTTCGGGATTTATGCATAGTATATAGAGATGGGAATCCATATGCTGTATGTGATAAATGTTTAAAGTTTTATTCTAAAATTAGTGAGTATAGACATTATTGTTATAGTTTGTATGGAACAACATTAGAACAGCAATACAACAAACCGTTGTGTGATTTGTTAATTAGGTGTATTAACTGTCAAAAGCCACTGTGTCCTGAAGAAAAGCAAAGACATCTGGACAAAAAGCAAAGATTCCATAATATAAGGGGTCGGTGGACCGGTCGATGTATGTCTTGTTGCAGATCATCAAGAACACGTAGAGAAACCCAGCTGTAATCATGCATGGAGATACACCTACATTGCATGAATATATGTTAGATTTGCAACCAGAGACAACTGATCTCTACTGTTATGAGCAATTAAATGACAGCTCAGAGGAGGAGGATGAAATAGATGGTCCAGCTGGACAAGCAGAACCGGACAGAGCCCATTACAATATTGTAACCTTTTGTTGCAAGTGTGACTCTACGCTTCGGTTGTGCGTACAAAGCACACACGTAGACATTCGTACTTTGGAAGACCTGTTAATGGGCACACTAGGAATTGTGTGCCCCATCTGTTCTCAGAAACCATAATCTACC\n"
          ]
        }
      ]
    },
    {
      "cell_type": "code",
      "source": [
        "ncov_dna"
      ],
      "metadata": {
        "trusted": true,
        "colab": {
          "base_uri": "https://localhost:8080/"
        },
        "id": "jXpdwdYXPtLI",
        "outputId": "05a74162-6ee7-4181-964e-7c45abc9b566"
      },
      "execution_count": 49,
      "outputs": [
        {
          "output_type": "execute_result",
          "data": {
            "text/plain": [
              "Seq('ATGGCTGATCCTGCAGGTACCAATGGGGAAGAGGGTACGGGATGTAATGGATGG...ACC')"
            ]
          },
          "metadata": {},
          "execution_count": 49
        }
      ]
    },
    {
      "cell_type": "code",
      "source": [
        "def ten_nucleotide_seq(genome):\n",
        "    genes = []\n",
        "    for ix, char in enumerate(genome):\n",
        "        if ix != 0 and ix%10 == 0:\n",
        "            genes.append(' ')\n",
        "        genes.append(char)\n",
        "    return ''.join(genes)\n",
        "\n",
        "# color code to represent genome sequences\n",
        "nu_clr_switcher = {\n",
        "    # standard color-codes\n",
        "    'A': Back.GREEN,\n",
        "    'C': Back.YELLOW,\n",
        "    'G': Back.CYAN,\n",
        "    'T': Back.MAGENTA,\n",
        "    ' ': Style.RESET_ALL\n",
        "}\n",
        "protein_clr_switcher = {\n",
        "    # color-code by proteinfamily's polarity\n",
        "    'A': Back.BLUE,\n",
        "    'V': Back.BLUE,\n",
        "    'I': Back.BLUE,\n",
        "    'L': Back.BLUE,\n",
        "    'M': Back.BLUE,\n",
        "    'F': Back.BLUE,\n",
        "    'Y': Back.CYAN,\n",
        "    'W': Back.BLUE,\n",
        "    'H': Back.CYAN,\n",
        "    'R': Back.RED,\n",
        "    'K': Back.RED,\n",
        "    'N': Back.GREEN,\n",
        "    'Q': Back.GREEN,\n",
        "    'E': Back.MAGENTA,\n",
        "    'D': Back.MAGENTA,\n",
        "    'S': Back.GREEN,\n",
        "    'T': Back.GREEN,\n",
        "    'G': Back.YELLOW,\n",
        "    'P': Back.YELLOW,\n",
        "    'C': Back.BLUE,\n",
        "    ' ': Style.RESET_ALL\n",
        "}\n",
        "def seq_repr(genome_str, strand ='dna'):\n",
        "    if strand == 'dna':\n",
        "        genome_str = ten_nucleotide_seq(genome=genome_str)\n",
        "        line_break_cntr = 0\n",
        "        for i in range(len(genome_str)):\n",
        "            if genome_str[i] == ' ':\n",
        "                line_break_cntr += 1\n",
        "                if line_break_cntr>0 and line_break_cntr%6==0:\n",
        "                    text = \"\\n\"\n",
        "                else:\n",
        "                    text = nu_clr_switcher[genome_str[i]] + genome_str[i]\n",
        "            else:\n",
        "                text = nu_clr_switcher[genome_str[i]] + genome_str[i]\n",
        "            print(text, end=\"\")\n",
        "        Style.RESET_ALL\n",
        "    if strand == 'protein':\n",
        "        for i in range(len(genome_str)):\n",
        "            if genome_str[i] in protein_clr_switcher:\n",
        "                if genome_str[i] == 'S' and genome_str[i+1:i+4] == 'TOP':\n",
        "                    text = Style.RESET_ALL + 'S'\n",
        "                elif genome_str[i] == 'T' and genome_str[i-1] == 'S' and genome_str[i+1:i+3] == 'OP':\n",
        "                    text = Style.RESET_ALL + 'T'\n",
        "                elif genome_str[i] == 'P' and genome_str[i-3:i] == 'STO':\n",
        "                    text = Style.RESET_ALL + 'P'\n",
        "                else:\n",
        "                    text = protein_clr_switcher[genome_str[i]] + genome_str[i]\n",
        "            else:\n",
        "                Style.RESET_ALL\n",
        "                text = genome_str[i]\n",
        "            print(text, end=\"\")"
      ],
      "metadata": {
        "trusted": true,
        "id": "ARZTR6LfPtLI"
      },
      "execution_count": 63,
      "outputs": []
    },
    {
      "cell_type": "markdown",
      "source": [
        "###Visualizing the Nucleotides of the HPV16 DNA"
      ],
      "metadata": {
        "id": "C464hu4LPtLI"
      }
    },
    {
      "cell_type": "code",
      "source": [
        "print(\"HPV16_genome: \")\n",
        "seq_repr(ncov_dna[0:300])"
      ],
      "metadata": {
        "trusted": true,
        "colab": {
          "base_uri": "https://localhost:8080/"
        },
        "id": "nQ4DJl-hPtLJ",
        "outputId": "2e002974-734e-4109-f86f-82b44a5f7221"
      },
      "execution_count": 64,
      "outputs": [
        {
          "output_type": "stream",
          "name": "stdout",
          "text": [
            "HPV16_genome: \n",
            "\u001b[42mA\u001b[45mT\u001b[46mG\u001b[46mG\u001b[43mC\u001b[45mT\u001b[46mG\u001b[42mA\u001b[45mT\u001b[43mC\u001b[0m \u001b[43mC\u001b[45mT\u001b[46mG\u001b[43mC\u001b[42mA\u001b[46mG\u001b[46mG\u001b[45mT\u001b[42mA\u001b[43mC\u001b[0m \u001b[43mC\u001b[42mA\u001b[42mA\u001b[45mT\u001b[46mG\u001b[46mG\u001b[46mG\u001b[46mG\u001b[42mA\u001b[42mA\u001b[0m \u001b[46mG\u001b[42mA\u001b[46mG\u001b[46mG\u001b[46mG\u001b[45mT\u001b[42mA\u001b[43mC\u001b[46mG\u001b[46mG\u001b[0m \u001b[46mG\u001b[42mA\u001b[45mT\u001b[46mG\u001b[45mT\u001b[42mA\u001b[42mA\u001b[45mT\u001b[46mG\u001b[46mG\u001b[0m \u001b[42mA\u001b[45mT\u001b[46mG\u001b[46mG\u001b[45mT\u001b[45mT\u001b[45mT\u001b[45mT\u001b[42mA\u001b[45mT\n",
            "\u001b[46mG\u001b[45mT\u001b[42mA\u001b[46mG\u001b[42mA\u001b[46mG\u001b[46mG\u001b[43mC\u001b[45mT\u001b[46mG\u001b[0m \u001b[45mT\u001b[42mA\u001b[46mG\u001b[45mT\u001b[46mG\u001b[46mG\u001b[42mA\u001b[42mA\u001b[42mA\u001b[42mA\u001b[0m \u001b[42mA\u001b[42mA\u001b[42mA\u001b[42mA\u001b[42mA\u001b[43mC\u001b[42mA\u001b[46mG\u001b[46mG\u001b[46mG\u001b[0m \u001b[46mG\u001b[42mA\u001b[45mT\u001b[46mG\u001b[43mC\u001b[45mT\u001b[42mA\u001b[45mT\u001b[42mA\u001b[45mT\u001b[0m \u001b[43mC\u001b[42mA\u001b[46mG\u001b[42mA\u001b[45mT\u001b[46mG\u001b[42mA\u001b[43mC\u001b[46mG\u001b[42mA\u001b[0m \u001b[46mG\u001b[42mA\u001b[42mA\u001b[43mC\u001b[46mG\u001b[42mA\u001b[42mA\u001b[42mA\u001b[42mA\u001b[45mT\n",
            "\u001b[46mG\u001b[42mA\u001b[43mC\u001b[42mA\u001b[46mG\u001b[45mT\u001b[46mG\u001b[42mA\u001b[45mT\u001b[42mA\u001b[0m \u001b[43mC\u001b[42mA\u001b[46mG\u001b[46mG\u001b[45mT\u001b[46mG\u001b[42mA\u001b[42mA\u001b[46mG\u001b[42mA\u001b[0m \u001b[45mT\u001b[45mT\u001b[45mT\u001b[46mG\u001b[46mG\u001b[45mT\u001b[42mA\u001b[46mG\u001b[42mA\u001b[45mT\u001b[0m \u001b[45mT\u001b[45mT\u001b[45mT\u001b[42mA\u001b[45mT\u001b[42mA\u001b[46mG\u001b[45mT\u001b[42mA\u001b[42mA\u001b[0m \u001b[42mA\u001b[45mT\u001b[46mG\u001b[42mA\u001b[45mT\u001b[42mA\u001b[42mA\u001b[45mT\u001b[46mG\u001b[42mA\u001b[0m \u001b[45mT\u001b[45mT\u001b[42mA\u001b[45mT\u001b[45mT\u001b[45mT\u001b[42mA\u001b[42mA\u001b[43mC\u001b[42mA\n",
            "\u001b[43mC\u001b[42mA\u001b[46mG\u001b[46mG\u001b[43mC\u001b[42mA\u001b[46mG\u001b[42mA\u001b[42mA\u001b[42mA\u001b[0m \u001b[43mC\u001b[42mA\u001b[46mG\u001b[42mA\u001b[46mG\u001b[42mA\u001b[43mC\u001b[42mA\u001b[46mG\u001b[43mC\u001b[0m \u001b[42mA\u001b[43mC\u001b[42mA\u001b[45mT\u001b[46mG\u001b[43mC\u001b[46mG\u001b[45mT\u001b[45mT\u001b[46mG\u001b[0m \u001b[45mT\u001b[45mT\u001b[45mT\u001b[42mA\u001b[43mC\u001b[45mT\u001b[46mG\u001b[43mC\u001b[42mA\u001b[43mC\u001b[0m \u001b[42mA\u001b[46mG\u001b[46mG\u001b[42mA\u001b[42mA\u001b[46mG\u001b[43mC\u001b[42mA\u001b[42mA\u001b[42mA\u001b[0m \u001b[42mA\u001b[43mC\u001b[42mA\u001b[42mA\u001b[43mC\u001b[42mA\u001b[45mT\u001b[42mA\u001b[46mG\u001b[42mA\n",
            "\u001b[46mG\u001b[42mA\u001b[45mT\u001b[46mG\u001b[43mC\u001b[42mA\u001b[46mG\u001b[45mT\u001b[42mA\u001b[43mC\u001b[0m \u001b[42mA\u001b[46mG\u001b[46mG\u001b[45mT\u001b[45mT\u001b[43mC\u001b[45mT\u001b[42mA\u001b[42mA\u001b[42mA\u001b[0m \u001b[42mA\u001b[43mC\u001b[46mG\u001b[42mA\u001b[42mA\u001b[42mA\u001b[46mG\u001b[45mT\u001b[42mA\u001b[45mT\u001b[0m \u001b[45mT\u001b[45mT\u001b[46mG\u001b[46mG\u001b[46mG\u001b[45mT\u001b[42mA\u001b[46mG\u001b[45mT\u001b[43mC\u001b[0m \u001b[43mC\u001b[42mA\u001b[43mC\u001b[45mT\u001b[45mT\u001b[42mA\u001b[46mG\u001b[45mT\u001b[46mG\u001b[42mA\u001b[0m \u001b[45mT\u001b[42mA\u001b[45mT\u001b[45mT\u001b[42mA\u001b[46mG\u001b[45mT\u001b[46mG\u001b[46mG\u001b[42mA"
          ]
        }
      ]
    },
    {
      "cell_type": "markdown",
      "source": [
        "Total Number of Nucleotides"
      ],
      "metadata": {
        "id": "DegbI1BtPtLJ"
      }
    },
    {
      "cell_type": "code",
      "source": [
        "len(ncov_dna)"
      ],
      "metadata": {
        "trusted": true,
        "colab": {
          "base_uri": "https://localhost:8080/"
        },
        "id": "w5kzGSTrPtLJ",
        "outputId": "ef48cc25-39cc-4700-f772-ebe9b1078b5f"
      },
      "execution_count": 52,
      "outputs": [
        {
          "output_type": "execute_result",
          "data": {
            "text/plain": [
              "7906"
            ]
          },
          "metadata": {},
          "execution_count": 52
        }
      ]
    },
    {
      "cell_type": "markdown",
      "source": [
        "### Composition of each Nucleotide (%)"
      ],
      "metadata": {
        "id": "8XAiNMmNPtLJ"
      }
    },
    {
      "cell_type": "code",
      "source": [
        "def nucleotides_composition(seq):\n",
        "    nucleotides = {'A': 0, 'C': 0, 'G': 0, 'T': 0}\n",
        "    for n in nucleotides:\n",
        "        nucleotides[n] = seq.count(n)/len(seq)*100\n",
        "    return nucleotides"
      ],
      "metadata": {
        "trusted": true,
        "id": "G3gafqBdPtLJ"
      },
      "execution_count": 53,
      "outputs": []
    },
    {
      "cell_type": "code",
      "source": [
        "ndict=nucleotides_composition(ncov_dna)\n",
        "ndict"
      ],
      "metadata": {
        "trusted": true,
        "colab": {
          "base_uri": "https://localhost:8080/"
        },
        "id": "U65BYcR8PtLK",
        "outputId": "d5804bb2-78f7-4b66-9d62-188ce81e2046"
      },
      "execution_count": 54,
      "outputs": [
        {
          "output_type": "execute_result",
          "data": {
            "text/plain": [
              "{'A': 32.86111813812295,\n",
              " 'C': 17.417151530483178,\n",
              " 'G': 19.12471540602074,\n",
              " 'T': 30.597014925373134}"
            ]
          },
          "metadata": {},
          "execution_count": 54
        }
      ]
    },
    {
      "cell_type": "code",
      "source": [
        "import pandas as pd\n",
        "ndf = pd.DataFrame.from_dict(ndict, orient ='index')\n",
        "ndf = ndf.reset_index()\n",
        "ndf = ndf.rename(columns={\"index\": \"Nucleotide\", 0: \"Composition\"})"
      ],
      "metadata": {
        "trusted": true,
        "id": "2-qUS-qjPtLK"
      },
      "execution_count": 65,
      "outputs": []
    },
    {
      "cell_type": "code",
      "source": [
        "# Define the color palette\n",
        "colors = [\"green\", \"yellow\", \"cyan\", \"magenta\"]\n",
        "\n",
        "# Create the bar chart\n",
        "ax = sns.barplot(x=\"Nucleotide\", y=\"Composition\", data=ndf, palette=colors)\n",
        "\n",
        "# Display the plot\n",
        "plt.show()"
      ],
      "metadata": {
        "trusted": true,
        "colab": {
          "base_uri": "https://localhost:8080/",
          "height": 449
        },
        "id": "JDKm9P4CPtLK",
        "outputId": "79b5137e-52f9-4c7e-999c-3e3a56ce7f24"
      },
      "execution_count": 67,
      "outputs": [
        {
          "output_type": "display_data",
          "data": {
            "text/plain": [
              "<Figure size 640x480 with 1 Axes>"
            ],
            "image/png": "[encoded data removed]"
          },
          "metadata": {}
        }
      ]
    },
    {
      "cell_type": "markdown",
      "source": [
        "###GC-content of the DNA (%)\n",
        "\n",
        "In PCR experiments, the GC-content of primers, which are short oligonucleotides, is commonly utilized to estimate their annealing temperature to the template DNA. A higher GC-content suggests a comparatively higher melting temperature, which is associated with increased stability."
      ],
      "metadata": {
        "id": "W_GjqCuwPtLK"
      }
    },
    {
      "cell_type": "code",
      "source": [
        "from Bio.SeqUtils import GC\n",
        "print(f\"GC% :{GC(ncov_dna)}\")"
      ],
      "metadata": {
        "trusted": true,
        "colab": {
          "base_uri": "https://localhost:8080/"
        },
        "id": "QzV4pf7-PtLK",
        "outputId": "5b3702c2-5cac-4ccf-b570-ac57fd1959e2"
      },
      "execution_count": 68,
      "outputs": [
        {
          "output_type": "stream",
          "name": "stdout",
          "text": [
            "GC% :36.54186693650392\n"
          ]
        },
        {
          "output_type": "stream",
          "name": "stderr",
          "text": [
            "/usr/local/lib/python3.10/dist-packages/Bio/SeqUtils/__init__.py:144: BiopythonDeprecationWarning: GC is deprecated; please use gc_fraction instead.\n",
            "  warnings.warn(\n"
          ]
        }
      ]
    },
    {
      "cell_type": "markdown",
      "source": [
        "### Tri-nucleotide compositions (Tri-mer)\n",
        "In bioinformatics, k-mers refer to subsequences of a specific length, denoted as 'k', that are extracted from a biological sequence. These k-mers are typically composed of nucleotides such as A, T, G, and C. The tri-nucleotide composition encodes the frequency of each 3-tuple of nucleic acid type in a nucleotide sequence.\n",
        "\n",
        "They are utilized for tasks such as DNA sequence assembly, enhancing gene expression in different organisms, identifying species within metagenomic samples, and developing attenuated vaccines."
      ],
      "metadata": {
        "id": "omi5Ti32PtLK"
      }
    },
    {
      "cell_type": "code",
      "source": [
        "# tri-nucleotide compositions\n",
        "trimers = [\"AAA\", \"AAC\", \"AAG\", \"AAT\", \"ACA\", \"ACC\", \"ACG\", \"ACT\", \"AGA\", \"AGC\", \"AGG\", \"ATA\", \"ATC\", \"ATG\", \"CAA\",\n",
        "           \"CAC\", \"CAG\", \"CCA\",\"CCC\",\"CCG\",\"CGA\",\"CGC\",\"CTA\",\"CTC\",\"GAA\",\"GAC\",\"GCA\",\"GCC\",\"GGA\",\"GTA\",\"TAA\",\"TCA\"]\n",
        "\n",
        "def trimer_composition(genome):\n",
        "    trimer_dict = dict()\n",
        "    for trimer in trimers:\n",
        "        trimer_dict[trimer] = genome.count(trimer)\n",
        "    return trimer_dict"
      ],
      "metadata": {
        "trusted": true,
        "id": "A4dAoh8UPtLK"
      },
      "execution_count": 69,
      "outputs": []
    },
    {
      "cell_type": "code",
      "source": [
        "composition = trimer_composition(ncov_dna)\n",
        "total_composition = sum(composition.values())\n",
        "norm_freq = [count/total_composition for count in composition.values()]\n",
        "print(composition)\n",
        "print(total_composition)\n",
        "print(norm_freq)"
      ],
      "metadata": {
        "trusted": true,
        "colab": {
          "base_uri": "https://localhost:8080/"
        },
        "id": "LY25CSVrPtLL",
        "outputId": "82748950-b087-48c1-f927-f32309b63ff1"
      },
      "execution_count": 70,
      "outputs": [
        {
          "output_type": "stream",
          "name": "stdout",
          "text": [
            "{'AAA': 201, 'AAC': 168, 'AAG': 121, 'AAT': 205, 'ACA': 245, 'ACC': 102, 'ACG': 56, 'ACT': 145, 'AGA': 128, 'AGC': 75, 'AGG': 109, 'ATA': 233, 'ATC': 69, 'ATG': 194, 'CAA': 166, 'CAC': 118, 'CAG': 146, 'CCA': 120, 'CCC': 38, 'CCG': 16, 'CGA': 33, 'CGC': 22, 'CTA': 139, 'CTC': 39, 'GAA': 123, 'GAC': 87, 'GCA': 145, 'GCC': 53, 'GGA': 105, 'GTA': 164, 'TAA': 205, 'TCA': 77}\n",
            "3847\n",
            "[0.05224850532882766, 0.043670392513646995, 0.03145308032232909, 0.05328827657915259, 0.06368598908240188, 0.026514166883285676, 0.014556797504549, 0.03769170782427866, 0.03327268001039771, 0.01949571094359241, 0.0283337665713543, 0.06056667533142709, 0.017936054068105018, 0.05042890564075903, 0.043150506888484534, 0.03067325188458539, 0.03795165063685989, 0.031193137509747854, 0.009877826878086821, 0.004159085001299714, 0.00857811281518066, 0.005718741876787107, 0.03613205094879127, 0.010137769690668054, 0.03197296594749155, 0.022615024694567196, 0.03769170782427866, 0.013776969066805303, 0.027293995321029375, 0.042630621263322066, 0.05328827657915259, 0.020015596568754873]\n"
          ]
        }
      ]
    },
    {
      "cell_type": "code",
      "source": [
        "tri = pd.DataFrame.from_dict(composition, orient ='index')\n",
        "tri = tri.reset_index()\n",
        "tri = tri.rename(columns={\"index\": \"trimer\", 0: \"count\"})"
      ],
      "metadata": {
        "trusted": true,
        "id": "CB3VI7IoPtLL"
      },
      "execution_count": 71,
      "outputs": []
    },
    {
      "cell_type": "code",
      "source": [
        "r1 = tri.sort_values(by='count', ascending=False)\n",
        "r1.style.bar(subset=[\"count\"],color='#').background_gradient(cmap='Oranges_r')"
      ],
      "metadata": {
        "trusted": true,
        "colab": {
          "base_uri": "https://localhost:8080/",
          "height": 1000
        },
        "id": "hfm0FvlLPtLL",
        "outputId": "092ad4ca-f71a-48ca-8ef0-d63e0d9394dd"
      },
      "execution_count": 89,
      "outputs": [
        {
          "output_type": "execute_result",
          "data": {
            "text/plain": [
              "<pandas.io.formats.style.Styler at 0x7f6fe3bc67d0>"
            ],
            "text/html": [
              "<style type=\"text/css\">\n",
              "#T_dd927_row0_col1 {\n",
              "  width: 10em;\n",
              "  background: linear-gradient(90deg, # 100.0%, transparent 100.0%);\n",
              "  background-color: #fff5eb;\n",
              "  color: #000000;\n",
              "}\n",
              "#T_dd927_row1_col1 {\n",
              "  width: 10em;\n",
              "  background: linear-gradient(90deg, # 95.1%, transparent 95.1%);\n",
              "  background-color: #ffefdf;\n",
              "  color: #000000;\n",
              "}\n",
              "#T_dd927_row2_col1, #T_dd927_row3_col1 {\n",
              "  width: 10em;\n",
              "  background: linear-gradient(90deg, # 83.7%, transparent 83.7%);\n",
              "  background-color: #fedebd;\n",
              "  color: #000000;\n",
              "}\n",
              "#T_dd927_row4_col1 {\n",
              "  width: 10em;\n",
              "  background: linear-gradient(90deg, # 82.0%, transparent 82.0%);\n",
              "  background-color: #fddab6;\n",
              "  color: #000000;\n",
              "}\n",
              "#T_dd927_row5_col1 {\n",
              "  width: 10em;\n",
              "  background: linear-gradient(90deg, # 79.2%, transparent 79.2%);\n",
              "  background-color: #fdd5ab;\n",
              "  color: #000000;\n",
              "}\n",
              "#T_dd927_row6_col1 {\n",
              "  width: 10em;\n",
              "  background: linear-gradient(90deg, # 68.6%, transparent 68.6%);\n",
              "  background-color: #fdb87c;\n",
              "  color: #000000;\n",
              "}\n",
              "#T_dd927_row7_col1 {\n",
              "  width: 10em;\n",
              "  background: linear-gradient(90deg, # 67.8%, transparent 67.8%);\n",
              "  background-color: #fdb678;\n",
              "  color: #000000;\n",
              "}\n",
              "#T_dd927_row8_col1 {\n",
              "  width: 10em;\n",
              "  background: linear-gradient(90deg, # 66.9%, transparent 66.9%);\n",
              "  background-color: #fdb475;\n",
              "  color: #000000;\n",
              "}\n",
              "#T_dd927_row9_col1 {\n",
              "  width: 10em;\n",
              "  background: linear-gradient(90deg, # 59.6%, transparent 59.6%);\n",
              "  background-color: #fd9f56;\n",
              "  color: #000000;\n",
              "}\n",
              "#T_dd927_row10_col1, #T_dd927_row11_col1 {\n",
              "  width: 10em;\n",
              "  background: linear-gradient(90deg, # 59.2%, transparent 59.2%);\n",
              "  background-color: #fd9e54;\n",
              "  color: #000000;\n",
              "}\n",
              "#T_dd927_row12_col1 {\n",
              "  width: 10em;\n",
              "  background: linear-gradient(90deg, # 56.7%, transparent 56.7%);\n",
              "  background-color: #fd974a;\n",
              "  color: #000000;\n",
              "}\n",
              "#T_dd927_row13_col1 {\n",
              "  width: 10em;\n",
              "  background: linear-gradient(90deg, # 52.2%, transparent 52.2%);\n",
              "  background-color: #fc8a39;\n",
              "  color: #f1f1f1;\n",
              "}\n",
              "#T_dd927_row14_col1 {\n",
              "  width: 10em;\n",
              "  background: linear-gradient(90deg, # 50.2%, transparent 50.2%);\n",
              "  background-color: #fa8331;\n",
              "  color: #f1f1f1;\n",
              "}\n",
              "#T_dd927_row15_col1 {\n",
              "  width: 10em;\n",
              "  background: linear-gradient(90deg, # 49.4%, transparent 49.4%);\n",
              "  background-color: #f9812e;\n",
              "  color: #f1f1f1;\n",
              "}\n",
              "#T_dd927_row16_col1 {\n",
              "  width: 10em;\n",
              "  background: linear-gradient(90deg, # 49.0%, transparent 49.0%);\n",
              "  background-color: #f9802d;\n",
              "  color: #f1f1f1;\n",
              "}\n",
              "#T_dd927_row17_col1 {\n",
              "  width: 10em;\n",
              "  background: linear-gradient(90deg, # 48.2%, transparent 48.2%);\n",
              "  background-color: #f87e2b;\n",
              "  color: #f1f1f1;\n",
              "}\n",
              "#T_dd927_row18_col1 {\n",
              "  width: 10em;\n",
              "  background: linear-gradient(90deg, # 44.5%, transparent 44.5%);\n",
              "  background-color: #f4711c;\n",
              "  color: #f1f1f1;\n",
              "}\n",
              "#T_dd927_row19_col1 {\n",
              "  width: 10em;\n",
              "  background: linear-gradient(90deg, # 42.9%, transparent 42.9%);\n",
              "  background-color: #f26d17;\n",
              "  color: #f1f1f1;\n",
              "}\n",
              "#T_dd927_row20_col1 {\n",
              "  width: 10em;\n",
              "  background: linear-gradient(90deg, # 41.6%, transparent 41.6%);\n",
              "  background-color: #f16913;\n",
              "  color: #f1f1f1;\n",
              "}\n",
              "#T_dd927_row21_col1 {\n",
              "  width: 10em;\n",
              "  background: linear-gradient(90deg, # 35.5%, transparent 35.5%);\n",
              "  background-color: #e4580a;\n",
              "  color: #f1f1f1;\n",
              "}\n",
              "#T_dd927_row22_col1 {\n",
              "  width: 10em;\n",
              "  background: linear-gradient(90deg, # 31.4%, transparent 31.4%);\n",
              "  background-color: #dc4c03;\n",
              "  color: #f1f1f1;\n",
              "}\n",
              "#T_dd927_row23_col1 {\n",
              "  width: 10em;\n",
              "  background: linear-gradient(90deg, # 30.6%, transparent 30.6%);\n",
              "  background-color: #da4902;\n",
              "  color: #f1f1f1;\n",
              "}\n",
              "#T_dd927_row24_col1 {\n",
              "  width: 10em;\n",
              "  background: linear-gradient(90deg, # 28.2%, transparent 28.2%);\n",
              "  background-color: #d14501;\n",
              "  color: #f1f1f1;\n",
              "}\n",
              "#T_dd927_row25_col1 {\n",
              "  width: 10em;\n",
              "  background: linear-gradient(90deg, # 22.9%, transparent 22.9%);\n",
              "  background-color: #b93d02;\n",
              "  color: #f1f1f1;\n",
              "}\n",
              "#T_dd927_row26_col1 {\n",
              "  width: 10em;\n",
              "  background: linear-gradient(90deg, # 21.6%, transparent 21.6%);\n",
              "  background-color: #b53b02;\n",
              "  color: #f1f1f1;\n",
              "}\n",
              "#T_dd927_row27_col1 {\n",
              "  width: 10em;\n",
              "  background: linear-gradient(90deg, # 15.9%, transparent 15.9%);\n",
              "  background-color: #9e3303;\n",
              "  color: #f1f1f1;\n",
              "}\n",
              "#T_dd927_row28_col1 {\n",
              "  width: 10em;\n",
              "  background: linear-gradient(90deg, # 15.5%, transparent 15.5%);\n",
              "  background-color: #9c3203;\n",
              "  color: #f1f1f1;\n",
              "}\n",
              "#T_dd927_row29_col1 {\n",
              "  width: 10em;\n",
              "  background: linear-gradient(90deg, # 13.5%, transparent 13.5%);\n",
              "  background-color: #963003;\n",
              "  color: #f1f1f1;\n",
              "}\n",
              "#T_dd927_row30_col1 {\n",
              "  width: 10em;\n",
              "  background: linear-gradient(90deg, # 9.0%, transparent 9.0%);\n",
              "  background-color: #862a04;\n",
              "  color: #f1f1f1;\n",
              "}\n",
              "#T_dd927_row31_col1 {\n",
              "  width: 10em;\n",
              "  background: linear-gradient(90deg, # 6.5%, transparent 6.5%);\n",
              "  background-color: #7f2704;\n",
              "  color: #f1f1f1;\n",
              "}\n",
              "</style>\n",
              "<table id=\"T_dd927\" class=\"dataframe\">\n",
              "  <thead>\n",
              "    <tr>\n",
              "      <th class=\"blank level0\" >&nbsp;</th>\n",
              "      <th id=\"T_dd927_level0_col0\" class=\"col_heading level0 col0\" >trimer</th>\n",
              "      <th id=\"T_dd927_level0_col1\" class=\"col_heading level0 col1\" >count</th>\n",
              "    </tr>\n",
              "  </thead>\n",
              "  <tbody>\n",
              "    <tr>\n",
              "      <th id=\"T_dd927_level0_row0\" class=\"row_heading level0 row0\" >4</th>\n",
              "      <td id=\"T_dd927_row0_col0\" class=\"data row0 col0\" >ACA</td>\n",
              "      <td id=\"T_dd927_row0_col1\" class=\"data row0 col1\" >245</td>\n",
              "    </tr>\n",
              "    <tr>\n",
              "      <th id=\"T_dd927_level0_row1\" class=\"row_heading level0 row1\" >11</th>\n",
              "      <td id=\"T_dd927_row1_col0\" class=\"data row1 col0\" >ATA</td>\n",
              "      <td id=\"T_dd927_row1_col1\" class=\"data row1 col1\" >233</td>\n",
              "    </tr>\n",
              "    <tr>\n",
              "      <th id=\"T_dd927_level0_row2\" class=\"row_heading level0 row2\" >30</th>\n",
              "      <td id=\"T_dd927_row2_col0\" class=\"data row2 col0\" >TAA</td>\n",
              "      <td id=\"T_dd927_row2_col1\" class=\"data row2 col1\" >205</td>\n",
              "    </tr>\n",
              "    <tr>\n",
              "      <th id=\"T_dd927_level0_row3\" class=\"row_heading level0 row3\" >3</th>\n",
              "      <td id=\"T_dd927_row3_col0\" class=\"data row3 col0\" >AAT</td>\n",
              "      <td id=\"T_dd927_row3_col1\" class=\"data row3 col1\" >205</td>\n",
              "    </tr>\n",
              "    <tr>\n",
              "      <th id=\"T_dd927_level0_row4\" class=\"row_heading level0 row4\" >0</th>\n",
              "      <td id=\"T_dd927_row4_col0\" class=\"data row4 col0\" >AAA</td>\n",
              "      <td id=\"T_dd927_row4_col1\" class=\"data row4 col1\" >201</td>\n",
              "    </tr>\n",
              "    <tr>\n",
              "      <th id=\"T_dd927_level0_row5\" class=\"row_heading level0 row5\" >13</th>\n",
              "      <td id=\"T_dd927_row5_col0\" class=\"data row5 col0\" >ATG</td>\n",
              "      <td id=\"T_dd927_row5_col1\" class=\"data row5 col1\" >194</td>\n",
              "    </tr>\n",
              "    <tr>\n",
              "      <th id=\"T_dd927_level0_row6\" class=\"row_heading level0 row6\" >1</th>\n",
              "      <td id=\"T_dd927_row6_col0\" class=\"data row6 col0\" >AAC</td>\n",
              "      <td id=\"T_dd927_row6_col1\" class=\"data row6 col1\" >168</td>\n",
              "    </tr>\n",
              "    <tr>\n",
              "      <th id=\"T_dd927_level0_row7\" class=\"row_heading level0 row7\" >14</th>\n",
              "      <td id=\"T_dd927_row7_col0\" class=\"data row7 col0\" >CAA</td>\n",
              "      <td id=\"T_dd927_row7_col1\" class=\"data row7 col1\" >166</td>\n",
              "    </tr>\n",
              "    <tr>\n",
              "      <th id=\"T_dd927_level0_row8\" class=\"row_heading level0 row8\" >29</th>\n",
              "      <td id=\"T_dd927_row8_col0\" class=\"data row8 col0\" >GTA</td>\n",
              "      <td id=\"T_dd927_row8_col1\" class=\"data row8 col1\" >164</td>\n",
              "    </tr>\n",
              "    <tr>\n",
              "      <th id=\"T_dd927_level0_row9\" class=\"row_heading level0 row9\" >16</th>\n",
              "      <td id=\"T_dd927_row9_col0\" class=\"data row9 col0\" >CAG</td>\n",
              "      <td id=\"T_dd927_row9_col1\" class=\"data row9 col1\" >146</td>\n",
              "    </tr>\n",
              "    <tr>\n",
              "      <th id=\"T_dd927_level0_row10\" class=\"row_heading level0 row10\" >7</th>\n",
              "      <td id=\"T_dd927_row10_col0\" class=\"data row10 col0\" >ACT</td>\n",
              "      <td id=\"T_dd927_row10_col1\" class=\"data row10 col1\" >145</td>\n",
              "    </tr>\n",
              "    <tr>\n",
              "      <th id=\"T_dd927_level0_row11\" class=\"row_heading level0 row11\" >26</th>\n",
              "      <td id=\"T_dd927_row11_col0\" class=\"data row11 col0\" >GCA</td>\n",
              "      <td id=\"T_dd927_row11_col1\" class=\"data row11 col1\" >145</td>\n",
              "    </tr>\n",
              "    <tr>\n",
              "      <th id=\"T_dd927_level0_row12\" class=\"row_heading level0 row12\" >22</th>\n",
              "      <td id=\"T_dd927_row12_col0\" class=\"data row12 col0\" >CTA</td>\n",
              "      <td id=\"T_dd927_row12_col1\" class=\"data row12 col1\" >139</td>\n",
              "    </tr>\n",
              "    <tr>\n",
              "      <th id=\"T_dd927_level0_row13\" class=\"row_heading level0 row13\" >8</th>\n",
              "      <td id=\"T_dd927_row13_col0\" class=\"data row13 col0\" >AGA</td>\n",
              "      <td id=\"T_dd927_row13_col1\" class=\"data row13 col1\" >128</td>\n",
              "    </tr>\n",
              "    <tr>\n",
              "      <th id=\"T_dd927_level0_row14\" class=\"row_heading level0 row14\" >24</th>\n",
              "      <td id=\"T_dd927_row14_col0\" class=\"data row14 col0\" >GAA</td>\n",
              "      <td id=\"T_dd927_row14_col1\" class=\"data row14 col1\" >123</td>\n",
              "    </tr>\n",
              "    <tr>\n",
              "      <th id=\"T_dd927_level0_row15\" class=\"row_heading level0 row15\" >2</th>\n",
              "      <td id=\"T_dd927_row15_col0\" class=\"data row15 col0\" >AAG</td>\n",
              "      <td id=\"T_dd927_row15_col1\" class=\"data row15 col1\" >121</td>\n",
              "    </tr>\n",
              "    <tr>\n",
              "      <th id=\"T_dd927_level0_row16\" class=\"row_heading level0 row16\" >17</th>\n",
              "      <td id=\"T_dd927_row16_col0\" class=\"data row16 col0\" >CCA</td>\n",
              "      <td id=\"T_dd927_row16_col1\" class=\"data row16 col1\" >120</td>\n",
              "    </tr>\n",
              "    <tr>\n",
              "      <th id=\"T_dd927_level0_row17\" class=\"row_heading level0 row17\" >15</th>\n",
              "      <td id=\"T_dd927_row17_col0\" class=\"data row17 col0\" >CAC</td>\n",
              "      <td id=\"T_dd927_row17_col1\" class=\"data row17 col1\" >118</td>\n",
              "    </tr>\n",
              "    <tr>\n",
              "      <th id=\"T_dd927_level0_row18\" class=\"row_heading level0 row18\" >10</th>\n",
              "      <td id=\"T_dd927_row18_col0\" class=\"data row18 col0\" >AGG</td>\n",
              "      <td id=\"T_dd927_row18_col1\" class=\"data row18 col1\" >109</td>\n",
              "    </tr>\n",
              "    <tr>\n",
              "      <th id=\"T_dd927_level0_row19\" class=\"row_heading level0 row19\" >28</th>\n",
              "      <td id=\"T_dd927_row19_col0\" class=\"data row19 col0\" >GGA</td>\n",
              "      <td id=\"T_dd927_row19_col1\" class=\"data row19 col1\" >105</td>\n",
              "    </tr>\n",
              "    <tr>\n",
              "      <th id=\"T_dd927_level0_row20\" class=\"row_heading level0 row20\" >5</th>\n",
              "      <td id=\"T_dd927_row20_col0\" class=\"data row20 col0\" >ACC</td>\n",
              "      <td id=\"T_dd927_row20_col1\" class=\"data row20 col1\" >102</td>\n",
              "    </tr>\n",
              "    <tr>\n",
              "      <th id=\"T_dd927_level0_row21\" class=\"row_heading level0 row21\" >25</th>\n",
              "      <td id=\"T_dd927_row21_col0\" class=\"data row21 col0\" >GAC</td>\n",
              "      <td id=\"T_dd927_row21_col1\" class=\"data row21 col1\" >87</td>\n",
              "    </tr>\n",
              "    <tr>\n",
              "      <th id=\"T_dd927_level0_row22\" class=\"row_heading level0 row22\" >31</th>\n",
              "      <td id=\"T_dd927_row22_col0\" class=\"data row22 col0\" >TCA</td>\n",
              "      <td id=\"T_dd927_row22_col1\" class=\"data row22 col1\" >77</td>\n",
              "    </tr>\n",
              "    <tr>\n",
              "      <th id=\"T_dd927_level0_row23\" class=\"row_heading level0 row23\" >9</th>\n",
              "      <td id=\"T_dd927_row23_col0\" class=\"data row23 col0\" >AGC</td>\n",
              "      <td id=\"T_dd927_row23_col1\" class=\"data row23 col1\" >75</td>\n",
              "    </tr>\n",
              "    <tr>\n",
              "      <th id=\"T_dd927_level0_row24\" class=\"row_heading level0 row24\" >12</th>\n",
              "      <td id=\"T_dd927_row24_col0\" class=\"data row24 col0\" >ATC</td>\n",
              "      <td id=\"T_dd927_row24_col1\" class=\"data row24 col1\" >69</td>\n",
              "    </tr>\n",
              "    <tr>\n",
              "      <th id=\"T_dd927_level0_row25\" class=\"row_heading level0 row25\" >6</th>\n",
              "      <td id=\"T_dd927_row25_col0\" class=\"data row25 col0\" >ACG</td>\n",
              "      <td id=\"T_dd927_row25_col1\" class=\"data row25 col1\" >56</td>\n",
              "    </tr>\n",
              "    <tr>\n",
              "      <th id=\"T_dd927_level0_row26\" class=\"row_heading level0 row26\" >27</th>\n",
              "      <td id=\"T_dd927_row26_col0\" class=\"data row26 col0\" >GCC</td>\n",
              "      <td id=\"T_dd927_row26_col1\" class=\"data row26 col1\" >53</td>\n",
              "    </tr>\n",
              "    <tr>\n",
              "      <th id=\"T_dd927_level0_row27\" class=\"row_heading level0 row27\" >23</th>\n",
              "      <td id=\"T_dd927_row27_col0\" class=\"data row27 col0\" >CTC</td>\n",
              "      <td id=\"T_dd927_row27_col1\" class=\"data row27 col1\" >39</td>\n",
              "    </tr>\n",
              "    <tr>\n",
              "      <th id=\"T_dd927_level0_row28\" class=\"row_heading level0 row28\" >18</th>\n",
              "      <td id=\"T_dd927_row28_col0\" class=\"data row28 col0\" >CCC</td>\n",
              "      <td id=\"T_dd927_row28_col1\" class=\"data row28 col1\" >38</td>\n",
              "    </tr>\n",
              "    <tr>\n",
              "      <th id=\"T_dd927_level0_row29\" class=\"row_heading level0 row29\" >20</th>\n",
              "      <td id=\"T_dd927_row29_col0\" class=\"data row29 col0\" >CGA</td>\n",
              "      <td id=\"T_dd927_row29_col1\" class=\"data row29 col1\" >33</td>\n",
              "    </tr>\n",
              "    <tr>\n",
              "      <th id=\"T_dd927_level0_row30\" class=\"row_heading level0 row30\" >21</th>\n",
              "      <td id=\"T_dd927_row30_col0\" class=\"data row30 col0\" >CGC</td>\n",
              "      <td id=\"T_dd927_row30_col1\" class=\"data row30 col1\" >22</td>\n",
              "    </tr>\n",
              "    <tr>\n",
              "      <th id=\"T_dd927_level0_row31\" class=\"row_heading level0 row31\" >19</th>\n",
              "      <td id=\"T_dd927_row31_col0\" class=\"data row31 col0\" >CCG</td>\n",
              "      <td id=\"T_dd927_row31_col1\" class=\"data row31 col1\" >16</td>\n",
              "    </tr>\n",
              "  </tbody>\n",
              "</table>\n"
            ]
          },
          "metadata": {},
          "execution_count": 89
        }
      ]
    },
    {
      "cell_type": "code",
      "source": [
        "fig_dims = (12, 8)\n",
        "fig, ax = plt.subplots(figsize=fig_dims)\n",
        "sns.barplot(x=\"count\", y=\"trimer\", ax=ax, data=tri)"
      ],
      "metadata": {
        "trusted": true,
        "colab": {
          "base_uri": "https://localhost:8080/",
          "height": 714
        },
        "id": "kMYxo50PPtLL",
        "outputId": "776767b9-f52c-4595-f73b-7d04c52c2427"
      },
      "execution_count": 73,
      "outputs": [
        {
          "output_type": "execute_result",
          "data": {
            "text/plain": [
              "<Axes: xlabel='count', ylabel='trimer'>"
            ]
          },
          "metadata": {},
          "execution_count": 73
        },
        {
          "output_type": "display_data",
          "data": {
            "text/plain": [
              "<Figure size 1200x800 with 1 Axes>"
            ],
            "image/png": "[encoded data removed]"
          },
          "metadata": {}
        }
      ]
    },
    {
      "cell_type": "markdown",
      "source": [
        "#**Protein Synthesis**\n",
        "\n",
        "**Transcription** is the process by which the information in a strand of DNA is copied into a new molecule of messenger RNA (mRNA), while **translation** refers to the process of using RNA to create proteins.\n",
        "\n",
        "Transcription occurs within the nucleus, where DNA serves as a template for generating an RNA molecule. Subsequently, the RNA molecule exits the nucleus and travels to a ribosome located in the cytoplasm, where translation takes place. During translation, the genetic code present in the mRNA is read, leading to the synthesis of **proteins**."
      ],
      "metadata": {
        "id": "E8BQaQj8PtLL"
      }
    },
    {
      "cell_type": "markdown",
      "source": [
        "Protein Synthesis"
      ],
      "metadata": {
        "id": "U38sCKu1y5BH"
      }
    },
    {
      "cell_type": "code",
      "source": [
        "#Transcription\n",
        "ncov_mrna = ncov_dna.transcribe()\n",
        "ncov_mrna"
      ],
      "metadata": {
        "colab": {
          "base_uri": "https://localhost:8080/"
        },
        "id": "NgXCCLHKycV0",
        "outputId": "abce6f05-039c-49c2-e488-1beb4ab2a764"
      },
      "execution_count": 90,
      "outputs": [
        {
          "output_type": "execute_result",
          "data": {
            "text/plain": [
              "Seq('AUGGCUGAUCCUGCAGGUACCAAUGGGGAAGAGGGUACGGGAUGUAAUGGAUGG...ACC')"
            ]
          },
          "metadata": {},
          "execution_count": 90
        }
      ]
    },
    {
      "cell_type": "code",
      "source": [
        "#Translation\n",
        "ncov_protein = ncov_mrna.translate()\n",
        "ncov_protein"
      ],
      "metadata": {
        "colab": {
          "base_uri": "https://localhost:8080/"
        },
        "id": "-JGY0dEOye5z",
        "outputId": "00be87c6-f7f0-402f-9805-0a1fab2c2a99"
      },
      "execution_count": 92,
      "outputs": [
        {
          "output_type": "execute_result",
          "data": {
            "text/plain": [
              "Seq('MADPAGTNGEEGTGCNGWFYVEAVVEKKTGDAISDDENENDSDTGEDLVDFIVN...IIY')"
            ]
          },
          "metadata": {},
          "execution_count": 92
        }
      ]
    },
    {
      "cell_type": "code",
      "source": [
        "#Number of Proteins\n",
        "len(ncov_protein)"
      ],
      "metadata": {
        "colab": {
          "base_uri": "https://localhost:8080/"
        },
        "id": "PRfU2gQtyuO-",
        "outputId": "6bfbf41e-ee98-419e-fcf3-526edbcbdf48"
      },
      "execution_count": 93,
      "outputs": [
        {
          "output_type": "execute_result",
          "data": {
            "text/plain": [
              "2635"
            ]
          },
          "metadata": {},
          "execution_count": 93
        }
      ]
    },
    {
      "cell_type": "code",
      "source": [
        "#Finding the amino acids from the protein structure\n",
        "ncov_aa = ncov_protein.split(\"*\")\n",
        "ncov_aa[0:10]"
      ],
      "metadata": {
        "colab": {
          "base_uri": "https://localhost:8080/"
        },
        "id": "i81N8Ykrywnr",
        "outputId": "9c3e48e7-bde6-4a61-cfa0-00bcf213dc16"
      },
      "execution_count": 94,
      "outputs": [
        {
          "output_type": "execute_result",
          "data": {
            "text/plain": [
              "[Seq('MADPAGTNGEEGTGCNGWFYVEAVVEKKTGDAISDDENENDSDTGEDLVDFIVN...NTL'),\n",
              " Seq('K'),\n",
              " Seq(''),\n",
              " Seq('YRPT'),\n",
              " Seq('PYRLLETHAPRMCYLLQGQRNGI'),\n",
              " Seq('TY'),\n",
              " Seq('PPGGANTGCIKE'),\n",
              " Seq('SITSN'),\n",
              " Seq('TATNVRNNI'),\n",
              " Seq('LTI')]"
            ]
          },
          "metadata": {},
          "execution_count": 94
        }
      ]
    },
    {
      "cell_type": "code",
      "source": [
        "#Cleaning the list of proteins\n",
        "ncov_clean = [ str(i) for i in ncov_aa]"
      ],
      "metadata": {
        "id": "QOyHr2pGzL31"
      },
      "execution_count": 95,
      "outputs": []
    },
    {
      "cell_type": "code",
      "source": [
        "#Identifying all the proteins (chains of amino acids)\n",
        "Proteins = ncov_protein.split('*')\n",
        "Proteins[0:10]"
      ],
      "metadata": {
        "colab": {
          "base_uri": "https://localhost:8080/"
        },
        "id": "g-CL1ngkzSXP",
        "outputId": "a3e6cfc6-9242-4143-89a0-a2b71cf6d4d2"
      },
      "execution_count": 96,
      "outputs": [
        {
          "output_type": "execute_result",
          "data": {
            "text/plain": [
              "[Seq('MADPAGTNGEEGTGCNGWFYVEAVVEKKTGDAISDDENENDSDTGEDLVDFIVN...NTL'),\n",
              " Seq('K'),\n",
              " Seq(''),\n",
              " Seq('YRPT'),\n",
              " Seq('PYRLLETHAPRMCYLLQGQRNGI'),\n",
              " Seq('TY'),\n",
              " Seq('PPGGANTGCIKE'),\n",
              " Seq('SITSN'),\n",
              " Seq('TATNVRNNI'),\n",
              " Seq('LTI')]"
            ]
          },
          "metadata": {},
          "execution_count": 96
        }
      ]
    },
    {
      "cell_type": "code",
      "source": [
        "#Removing chains smaller than 10 amino acids long\n",
        "for i in Proteins[:]:\n",
        "    if len(i) < 10:\n",
        "        Proteins.remove(i)"
      ],
      "metadata": {
        "id": "1ge3IkptzdxN"
      },
      "execution_count": 97,
      "outputs": []
    },
    {
      "cell_type": "markdown",
      "source": [
        "##Protein Analysis"
      ],
      "metadata": {
        "id": "YSDbXudfzl5z"
      }
    },
    {
      "cell_type": "code",
      "source": [
        "df = pd.DataFrame({\"amino_acids\":ncov_clean})"
      ],
      "metadata": {
        "id": "_3mQjJURzsHt"
      },
      "execution_count": 98,
      "outputs": []
    },
    {
      "cell_type": "code",
      "source": [
        "df['count'] = df['amino_acids'].str.len()"
      ],
      "metadata": {
        "id": "2icHxkBn0Dtu"
      },
      "execution_count": 99,
      "outputs": []
    },
    {
      "cell_type": "code",
      "source": [
        "df.nlargest(6, \"count\")"
      ],
      "metadata": {
        "colab": {
          "base_uri": "https://localhost:8080/",
          "height": 237
        },
        "id": "o0NvySLW0IGa",
        "outputId": "82371049-a85f-4f4d-b0ab-1d372c86064b"
      },
      "execution_count": 101,
      "outputs": [
        {
          "output_type": "execute_result",
          "data": {
            "text/plain": [
              "                                           amino_acids  count\n",
              "0    MADPAGTNGEEGTGCNGWFYVEAVVEKKTGDAISDDENENDSDTGE...    649\n",
              "46   LLYTITYYFFFFIFIYNFFFCLFVCFLINCYYLTMRHKRSAKRTKR...    507\n",
              "43   NTKNYYSVYWIYVYMTNLDTASTTLLACFLLCFCVLLCVCLLIRPL...     97\n",
              "90   KIHFLGSKFKGKVFCRPRSVSFRTQIFTTSRIEGQTKIYIRKTKSY...     56\n",
              "97   TIFATSCFCFIYTIFCSASGHFVASTEFGCMLFGTKCVFLNSSMSATMV     49\n",
              "104   PKSVEPKPVSIKADILCTKRELQCFRTHRSDPESYHSYAQSCKQLYMI     48"
            ],
            "text/html": [
              "\n",
              "\n",
              "  <div id=\"df-94454f56-200f-4283-80e2-0741eb1bf29d\">\n",
              "    <div class=\"colab-df-container\">\n",
              "      <div>\n",
              "<style scoped>\n",
              "    .dataframe tbody tr th:only-of-type {\n",
              "        vertical-align: middle;\n",
              "    }\n",
              "\n",
              "    .dataframe tbody tr th {\n",
              "        vertical-align: top;\n",
              "    }\n",
              "\n",
              "    .dataframe thead th {\n",
              "        text-align: right;\n",
              "    }\n",
              "</style>\n",
              "<table border=\"1\" class=\"dataframe\">\n",
              "  <thead>\n",
              "    <tr style=\"text-align: right;\">\n",
              "      <th></th>\n",
              "      <th>amino_acids</th>\n",
              "      <th>count</th>\n",
              "    </tr>\n",
              "  </thead>\n",
              "  <tbody>\n",
              "    <tr>\n",
              "      <th>0</th>\n",
              "      <td>MADPAGTNGEEGTGCNGWFYVEAVVEKKTGDAISDDENENDSDTGE...</td>\n",
              "      <td>649</td>\n",
              "    </tr>\n",
              "    <tr>\n",
              "      <th>46</th>\n",
              "      <td>LLYTITYYFFFFIFIYNFFFCLFVCFLINCYYLTMRHKRSAKRTKR...</td>\n",
              "      <td>507</td>\n",
              "    </tr>\n",
              "    <tr>\n",
              "      <th>43</th>\n",
              "      <td>NTKNYYSVYWIYVYMTNLDTASTTLLACFLLCFCVLLCVCLLIRPL...</td>\n",
              "      <td>97</td>\n",
              "    </tr>\n",
              "    <tr>\n",
              "      <th>90</th>\n",
              "      <td>KIHFLGSKFKGKVFCRPRSVSFRTQIFTTSRIEGQTKIYIRKTKSY...</td>\n",
              "      <td>56</td>\n",
              "    </tr>\n",
              "    <tr>\n",
              "      <th>97</th>\n",
              "      <td>TIFATSCFCFIYTIFCSASGHFVASTEFGCMLFGTKCVFLNSSMSATMV</td>\n",
              "      <td>49</td>\n",
              "    </tr>\n",
              "    <tr>\n",
              "      <th>104</th>\n",
              "      <td>PKSVEPKPVSIKADILCTKRELQCFRTHRSDPESYHSYAQSCKQLYMI</td>\n",
              "      <td>48</td>\n",
              "    </tr>\n",
              "  </tbody>\n",
              "</table>\n",
              "</div>\n",
              "      <button class=\"colab-df-convert\" onclick=\"convertToInteractive('df-94454f56-200f-4283-80e2-0741eb1bf29d')\"\n",
              "              title=\"Convert this dataframe to an interactive table.\"\n",
              "              style=\"display:none;\">\n",
              "\n",
              "  <svg xmlns=\"http://www.w3.org/2000/svg\" height=\"24px\"viewBox=\"0 0 24 24\"\n",
              "       width=\"24px\">\n",
              "    <path d=\"M0 0h24v24H0V0z\" fill=\"none\"/>\n",
              "    <path d=\"M18.56 5.44l.94 2.06.94-2.06 2.06-.94-2.06-.94-.94-2.06-.94 2.06-2.06.94zm-11 1L8.5 8.5l.94-2.06 2.06-.94-2.06-.94L8.5 2.5l-.94 2.06-2.06.94zm10 10l.94 2.06.94-2.06 2.06-.94-2.06-.94-.94-2.06-.94 2.06-2.06.94z\"/><path d=\"M17.41 7.96l-1.37-1.37c-.4-.4-.92-.59-1.43-.59-.52 0-1.04.2-1.43.59L10.3 9.45l-7.72 7.72c-.78.78-.78 2.05 0 2.83L4 21.41c.39.39.9.59 1.41.59.51 0 1.02-.2 1.41-.59l7.78-7.78 2.81-2.81c.8-.78.8-2.07 0-2.86zM5.41 20L4 18.59l7.72-7.72 1.47 1.35L5.41 20z\"/>\n",
              "  </svg>\n",
              "      </button>\n",
              "\n",
              "\n",
              "\n",
              "    <div id=\"df-df6b523f-7b9a-4181-8dcd-6af5b29d4cf6\">\n",
              "      <button class=\"colab-df-quickchart\" onclick=\"quickchart('df-df6b523f-7b9a-4181-8dcd-6af5b29d4cf6')\"\n",
              "              title=\"Suggest charts.\"\n",
              "              style=\"display:none;\">\n",
              "\n",
              "<svg xmlns=\"http://www.w3.org/2000/svg\" height=\"24px\"viewBox=\"0 0 24 24\"\n",
              "     width=\"24px\">\n",
              "    <g>\n",
              "        <path d=\"M19 3H5c-1.1 0-2 .9-2 2v14c0 1.1.9 2 2 2h14c1.1 0 2-.9 2-2V5c0-1.1-.9-2-2-2zM9 17H7v-7h2v7zm4 0h-2V7h2v10zm4 0h-2v-4h2v4z\"/>\n",
              "    </g>\n",
              "</svg>\n",
              "      </button>\n",
              "    </div>\n",
              "\n",
              "<style>\n",
              "  .colab-df-quickchart {\n",
              "    background-color: #E8F0FE;\n",
              "    border: none;\n",
              "    border-radius: 50%;\n",
              "    cursor: pointer;\n",
              "    display: none;\n",
              "    fill: #1967D2;\n",
              "    height: 32px;\n",
              "    padding: 0 0 0 0;\n",
              "    width: 32px;\n",
              "  }\n",
              "\n",
              "  .colab-df-quickchart:hover {\n",
              "    background-color: #E2EBFA;\n",
              "    box-shadow: 0px 1px 2px rgba(60, 64, 67, 0.3), 0px 1px 3px 1px rgba(60, 64, 67, 0.15);\n",
              "    fill: #174EA6;\n",
              "  }\n",
              "\n",
              "  [theme=dark] .colab-df-quickchart {\n",
              "    background-color: #3B4455;\n",
              "    fill: #D2E3FC;\n",
              "  }\n",
              "\n",
              "  [theme=dark] .colab-df-quickchart:hover {\n",
              "    background-color: #434B5C;\n",
              "    box-shadow: 0px 1px 3px 1px rgba(0, 0, 0, 0.15);\n",
              "    filter: drop-shadow(0px 1px 2px rgba(0, 0, 0, 0.3));\n",
              "    fill: #FFFFFF;\n",
              "  }\n",
              "</style>\n",
              "\n",
              "    <script>\n",
              "      async function quickchart(key) {\n",
              "        const containerElement = document.querySelector('#' + key);\n",
              "        const charts = await google.colab.kernel.invokeFunction(\n",
              "            'suggestCharts', [key], {});\n",
              "      }\n",
              "    </script>\n",
              "\n",
              "      <script>\n",
              "\n",
              "function displayQuickchartButton(domScope) {\n",
              "  let quickchartButtonEl =\n",
              "    domScope.querySelector('#df-df6b523f-7b9a-4181-8dcd-6af5b29d4cf6 button.colab-df-quickchart');\n",
              "  quickchartButtonEl.style.display =\n",
              "    google.colab.kernel.accessAllowed ? 'block' : 'none';\n",
              "}\n",
              "\n",
              "        displayQuickchartButton(document);\n",
              "      </script>\n",
              "      <style>\n",
              "    .colab-df-container {\n",
              "      display:flex;\n",
              "      flex-wrap:wrap;\n",
              "      gap: 12px;\n",
              "    }\n",
              "\n",
              "    .colab-df-convert {\n",
              "      background-color: #E8F0FE;\n",
              "      border: none;\n",
              "      border-radius: 50%;\n",
              "      cursor: pointer;\n",
              "      display: none;\n",
              "      fill: #1967D2;\n",
              "      height: 32px;\n",
              "      padding: 0 0 0 0;\n",
              "      width: 32px;\n",
              "    }\n",
              "\n",
              "    .colab-df-convert:hover {\n",
              "      background-color: #E2EBFA;\n",
              "      box-shadow: 0px 1px 2px rgba(60, 64, 67, 0.3), 0px 1px 3px 1px rgba(60, 64, 67, 0.15);\n",
              "      fill: #174EA6;\n",
              "    }\n",
              "\n",
              "    [theme=dark] .colab-df-convert {\n",
              "      background-color: #3B4455;\n",
              "      fill: #D2E3FC;\n",
              "    }\n",
              "\n",
              "    [theme=dark] .colab-df-convert:hover {\n",
              "      background-color: #434B5C;\n",
              "      box-shadow: 0px 1px 3px 1px rgba(0, 0, 0, 0.15);\n",
              "      filter: drop-shadow(0px 1px 2px rgba(0, 0, 0, 0.3));\n",
              "      fill: #FFFFFF;\n",
              "    }\n",
              "  </style>\n",
              "\n",
              "      <script>\n",
              "        const buttonEl =\n",
              "          document.querySelector('#df-94454f56-200f-4283-80e2-0741eb1bf29d button.colab-df-convert');\n",
              "        buttonEl.style.display =\n",
              "          google.colab.kernel.accessAllowed ? 'block' : 'none';\n",
              "\n",
              "        async function convertToInteractive(key) {\n",
              "          const element = document.querySelector('#df-94454f56-200f-4283-80e2-0741eb1bf29d');\n",
              "          const dataTable =\n",
              "            await google.colab.kernel.invokeFunction('convertToInteractive',\n",
              "                                                     [key], {});\n",
              "          if (!dataTable) return;\n",
              "\n",
              "          const docLinkHtml = 'Like what you see? Visit the ' +\n",
              "            '<a target=\"_blank\" href=https://colab.research.google.com/notebooks/data_table.ipynb>data table notebook</a>'\n",
              "            + ' to learn more about interactive tables.';\n",
              "          element.innerHTML = '';\n",
              "          dataTable['output_type'] = 'display_data';\n",
              "          await google.colab.output.renderOutput(dataTable, element);\n",
              "          const docLink = document.createElement('div');\n",
              "          docLink.innerHTML = docLinkHtml;\n",
              "          element.appendChild(docLink);\n",
              "        }\n",
              "      </script>\n",
              "    </div>\n",
              "  </div>\n"
            ]
          },
          "metadata": {},
          "execution_count": 101
        }
      ]
    },
    {
      "cell_type": "markdown",
      "source": [
        "Let's take a look at the largest amino acid (loci 0)"
      ],
      "metadata": {
        "id": "AHbOm8Et022p"
      }
    },
    {
      "cell_type": "code",
      "source": [
        "#protein of interest\n",
        "soi=df['amino_acids'].iloc[0]\n",
        "seq_oi=Seq(soi)\n",
        "seq_oi"
      ],
      "metadata": {
        "colab": {
          "base_uri": "https://localhost:8080/"
        },
        "id": "LfjZEaMi0ICR",
        "outputId": "9b997103-37cb-4443-e6da-995cf5842000"
      },
      "execution_count": 102,
      "outputs": [
        {
          "output_type": "execute_result",
          "data": {
            "text/plain": [
              "Seq('MADPAGTNGEEGTGCNGWFYVEAVVEKKTGDAISDDENENDSDTGEDLVDFIVN...NTL')"
            ]
          },
          "metadata": {},
          "execution_count": 102
        }
      ]
    },
    {
      "cell_type": "code",
      "source": [
        "#cleaning\n",
        "soi1=''\n",
        "for i in soi:\n",
        "    if(i!='X'):\n",
        "        soi1=soi1+i\n",
        "print(len(soi1))"
      ],
      "metadata": {
        "colab": {
          "base_uri": "https://localhost:8080/"
        },
        "id": "v3Z-0E1x0H-5",
        "outputId": "4b81181b-c99a-490d-a28e-5ebfa1b528c3"
      },
      "execution_count": 103,
      "outputs": [
        {
          "output_type": "stream",
          "name": "stdout",
          "text": [
            "649\n"
          ]
        }
      ]
    },
    {
      "cell_type": "code",
      "source": [
        "a=ProteinAnalysis(soi1)\n",
        "a"
      ],
      "metadata": {
        "colab": {
          "base_uri": "https://localhost:8080/"
        },
        "id": "Iqw2IIY40H6s",
        "outputId": "09cc2094-8678-431a-886d-2be0237e85ac"
      },
      "execution_count": 104,
      "outputs": [
        {
          "output_type": "execute_result",
          "data": {
            "text/plain": [
              "<Bio.SeqUtils.ProtParam.ProteinAnalysis at 0x7f6fe3bc4520>"
            ]
          },
          "metadata": {},
          "execution_count": 104
        }
      ]
    },
    {
      "cell_type": "code",
      "source": [
        "#Molecular Weight\n",
        "MW=a.molecular_weight()\n",
        "MW"
      ],
      "metadata": {
        "colab": {
          "base_uri": "https://localhost:8080/"
        },
        "id": "9xEVtBtq0H3U",
        "outputId": "335907c5-7dd0-40a4-9d3f-3d090854c7eb"
      },
      "execution_count": 105,
      "outputs": [
        {
          "output_type": "execute_result",
          "data": {
            "text/plain": [
              "72895.78220000025"
            ]
          },
          "metadata": {},
          "execution_count": 105
        }
      ]
    },
    {
      "cell_type": "code",
      "source": [
        "#Aromaticity\n",
        "aromaticity=a.aromaticity()\n",
        "aromaticity"
      ],
      "metadata": {
        "colab": {
          "base_uri": "https://localhost:8080/"
        },
        "id": "gK6V2c5O5atJ",
        "outputId": "91ceb740-eb9f-4328-f5f2-981fc3992612"
      },
      "execution_count": 106,
      "outputs": [
        {
          "output_type": "execute_result",
          "data": {
            "text/plain": [
              "0.09553158705701079"
            ]
          },
          "metadata": {},
          "execution_count": 106
        }
      ]
    },
    {
      "cell_type": "code",
      "source": [
        "#IsoElectric Point\n",
        "IsoElectric=a.isoelectric_point()\n",
        "IsoElectric"
      ],
      "metadata": {
        "colab": {
          "base_uri": "https://localhost:8080/"
        },
        "id": "PH4a_x_s5ap6",
        "outputId": "ff0028a5-5684-49a7-b9f6-e68b32e7841a"
      },
      "execution_count": 107,
      "outputs": [
        {
          "output_type": "execute_result",
          "data": {
            "text/plain": [
              "5.624411582946778"
            ]
          },
          "metadata": {},
          "execution_count": 107
        }
      ]
    },
    {
      "cell_type": "markdown",
      "source": [
        "###Amino Acid Composition"
      ],
      "metadata": {
        "id": "I5g7Wcu-587h"
      }
    },
    {
      "cell_type": "code",
      "source": [
        "def amino_acid_composition(protein_seq):\n",
        "    amino_acids_dict = {'Y': 0, 'A': 0, 'Q': 0, 'D': 0, 'C': 0, 'G': 0, 'V': 0, 'T': 0, 'E': 0, 'N': 0,\n",
        "                       'K': 0, 'R': 0, 'S': 0, 'I': 0, 'H': 0, 'M': 0, 'F': 0, 'L': 0, 'W': 0, 'P': 0}\n",
        "    for amino_acid in amino_acids_dict:\n",
        "        amino_acids_dict[amino_acid] = protein_seq.count(amino_acid)/len(protein_seq)*100\n",
        "    return amino_acids_dict"
      ],
      "metadata": {
        "id": "NBPT4zAL58tj"
      },
      "execution_count": 108,
      "outputs": []
    },
    {
      "cell_type": "code",
      "source": [
        "ac = amino_acid_composition(ncov_protein)\n",
        "amc = pd.DataFrame.from_dict(ac, orient ='index')\n",
        "amc = amc.reset_index()\n",
        "amc = amc.rename(columns={\"index\": \"amino_acid\", 0: \"composition\"})"
      ],
      "metadata": {
        "id": "Qu6AsaLl5am2"
      },
      "execution_count": 109,
      "outputs": []
    },
    {
      "cell_type": "code",
      "source": [
        "r = amc.sort_values(by='composition', ascending=False)\n",
        "r.style.bar(subset=[\"composition\"],color='#').background_gradient(cmap='YlGnBu_r')"
      ],
      "metadata": {
        "colab": {
          "base_uri": "https://localhost:8080/",
          "height": 676
        },
        "id": "PtqX_PoN5ajo",
        "outputId": "6d66ca5a-9f3a-431b-e628-70c9d4b15643"
      },
      "execution_count": 113,
      "outputs": [
        {
          "output_type": "execute_result",
          "data": {
            "text/plain": [
              "<pandas.io.formats.style.Styler at 0x7f6fe40e75e0>"
            ],
            "text/html": [
              "<style type=\"text/css\">\n",
              "#T_920f8_row0_col1 {\n",
              "  width: 10em;\n",
              "  background: linear-gradient(90deg, # 100.0%, transparent 100.0%);\n",
              "  background-color: #ffffd9;\n",
              "  color: #000000;\n",
              "}\n",
              "#T_920f8_row1_col1 {\n",
              "  width: 10em;\n",
              "  background: linear-gradient(90deg, # 94.7%, transparent 94.7%);\n",
              "  background-color: #f6fbc5;\n",
              "  color: #000000;\n",
              "}\n",
              "#T_920f8_row2_col1 {\n",
              "  width: 10em;\n",
              "  background: linear-gradient(90deg, # 90.7%, transparent 90.7%);\n",
              "  background-color: #eff9b6;\n",
              "  color: #000000;\n",
              "}\n",
              "#T_920f8_row3_col1 {\n",
              "  width: 10em;\n",
              "  background: linear-gradient(90deg, # 82.8%, transparent 82.8%);\n",
              "  background-color: #d4eeb3;\n",
              "  color: #000000;\n",
              "}\n",
              "#T_920f8_row4_col1 {\n",
              "  width: 10em;\n",
              "  background: linear-gradient(90deg, # 67.0%, transparent 67.0%);\n",
              "  background-color: #71c8bd;\n",
              "  color: #000000;\n",
              "}\n",
              "#T_920f8_row5_col1 {\n",
              "  width: 10em;\n",
              "  background: linear-gradient(90deg, # 65.6%, transparent 65.6%);\n",
              "  background-color: #69c5be;\n",
              "  color: #000000;\n",
              "}\n",
              "#T_920f8_row6_col1 {\n",
              "  width: 10em;\n",
              "  background: linear-gradient(90deg, # 61.7%, transparent 61.7%);\n",
              "  background-color: #52bcc2;\n",
              "  color: #000000;\n",
              "}\n",
              "#T_920f8_row7_col1, #T_920f8_row8_col1 {\n",
              "  width: 10em;\n",
              "  background: linear-gradient(90deg, # 56.8%, transparent 56.8%);\n",
              "  background-color: #3aaec3;\n",
              "  color: #f1f1f1;\n",
              "}\n",
              "#T_920f8_row9_col1 {\n",
              "  width: 10em;\n",
              "  background: linear-gradient(90deg, # 53.3%, transparent 53.3%);\n",
              "  background-color: #2da2c2;\n",
              "  color: #f1f1f1;\n",
              "}\n",
              "#T_920f8_row10_col1 {\n",
              "  width: 10em;\n",
              "  background: linear-gradient(90deg, # 52.9%, transparent 52.9%);\n",
              "  background-color: #2b9fc2;\n",
              "  color: #f1f1f1;\n",
              "}\n",
              "#T_920f8_row11_col1 {\n",
              "  width: 10em;\n",
              "  background: linear-gradient(90deg, # 52.4%, transparent 52.4%);\n",
              "  background-color: #2a9ec1;\n",
              "  color: #f1f1f1;\n",
              "}\n",
              "#T_920f8_row12_col1 {\n",
              "  width: 10em;\n",
              "  background: linear-gradient(90deg, # 51.5%, transparent 51.5%);\n",
              "  background-color: #269bc1;\n",
              "  color: #f1f1f1;\n",
              "}\n",
              "#T_920f8_row13_col1 {\n",
              "  width: 10em;\n",
              "  background: linear-gradient(90deg, # 50.2%, transparent 50.2%);\n",
              "  background-color: #2296c1;\n",
              "  color: #f1f1f1;\n",
              "}\n",
              "#T_920f8_row14_col1 {\n",
              "  width: 10em;\n",
              "  background: linear-gradient(90deg, # 39.6%, transparent 39.6%);\n",
              "  background-color: #2163aa;\n",
              "  color: #f1f1f1;\n",
              "}\n",
              "#T_920f8_row15_col1 {\n",
              "  width: 10em;\n",
              "  background: linear-gradient(90deg, # 37.4%, transparent 37.4%);\n",
              "  background-color: #2259a6;\n",
              "  color: #f1f1f1;\n",
              "}\n",
              "#T_920f8_row16_col1 {\n",
              "  width: 10em;\n",
              "  background: linear-gradient(90deg, # 30.4%, transparent 30.4%);\n",
              "  background-color: #243c98;\n",
              "  color: #f1f1f1;\n",
              "}\n",
              "#T_920f8_row17_col1 {\n",
              "  width: 10em;\n",
              "  background: linear-gradient(90deg, # 26.9%, transparent 26.9%);\n",
              "  background-color: #21308b;\n",
              "  color: #f1f1f1;\n",
              "}\n",
              "#T_920f8_row18_col1 {\n",
              "  width: 10em;\n",
              "  background: linear-gradient(90deg, # 20.3%, transparent 20.3%);\n",
              "  background-color: #0d2163;\n",
              "  color: #f1f1f1;\n",
              "}\n",
              "#T_920f8_row19_col1 {\n",
              "  width: 10em;\n",
              "  background: linear-gradient(90deg, # 18.1%, transparent 18.1%);\n",
              "  background-color: #081d58;\n",
              "  color: #f1f1f1;\n",
              "}\n",
              "</style>\n",
              "<table id=\"T_920f8\" class=\"dataframe\">\n",
              "  <thead>\n",
              "    <tr>\n",
              "      <th class=\"blank level0\" >&nbsp;</th>\n",
              "      <th id=\"T_920f8_level0_col0\" class=\"col_heading level0 col0\" >amino_acid</th>\n",
              "      <th id=\"T_920f8_level0_col1\" class=\"col_heading level0 col1\" >composition</th>\n",
              "    </tr>\n",
              "  </thead>\n",
              "  <tbody>\n",
              "    <tr>\n",
              "      <th id=\"T_920f8_level0_row0\" class=\"row_heading level0 row0\" >7</th>\n",
              "      <td id=\"T_920f8_row0_col0\" class=\"data row0 col0\" >T</td>\n",
              "      <td id=\"T_920f8_row0_col1\" class=\"data row0 col1\" >8.614801</td>\n",
              "    </tr>\n",
              "    <tr>\n",
              "      <th id=\"T_920f8_level0_row1\" class=\"row_heading level0 row1\" >17</th>\n",
              "      <td id=\"T_920f8_row1_col0\" class=\"data row1 col0\" >L</td>\n",
              "      <td id=\"T_920f8_row1_col1\" class=\"data row1 col1\" >8.159393</td>\n",
              "    </tr>\n",
              "    <tr>\n",
              "      <th id=\"T_920f8_level0_row2\" class=\"row_heading level0 row2\" >12</th>\n",
              "      <td id=\"T_920f8_row2_col0\" class=\"data row2 col0\" >S</td>\n",
              "      <td id=\"T_920f8_row2_col1\" class=\"data row2 col1\" >7.817837</td>\n",
              "    </tr>\n",
              "    <tr>\n",
              "      <th id=\"T_920f8_level0_row3\" class=\"row_heading level0 row3\" >13</th>\n",
              "      <td id=\"T_920f8_row3_col0\" class=\"data row3 col0\" >I</td>\n",
              "      <td id=\"T_920f8_row3_col1\" class=\"data row3 col1\" >7.134725</td>\n",
              "    </tr>\n",
              "    <tr>\n",
              "      <th id=\"T_920f8_level0_row4\" class=\"row_heading level0 row4\" >6</th>\n",
              "      <td id=\"T_920f8_row4_col0\" class=\"data row4 col0\" >V</td>\n",
              "      <td id=\"T_920f8_row4_col1\" class=\"data row4 col1\" >5.768501</td>\n",
              "    </tr>\n",
              "    <tr>\n",
              "      <th id=\"T_920f8_level0_row5\" class=\"row_heading level0 row5\" >0</th>\n",
              "      <td id=\"T_920f8_row5_col0\" class=\"data row5 col0\" >Y</td>\n",
              "      <td id=\"T_920f8_row5_col1\" class=\"data row5 col1\" >5.654649</td>\n",
              "    </tr>\n",
              "    <tr>\n",
              "      <th id=\"T_920f8_level0_row6\" class=\"row_heading level0 row6\" >5</th>\n",
              "      <td id=\"T_920f8_row6_col0\" class=\"data row6 col0\" >G</td>\n",
              "      <td id=\"T_920f8_row6_col1\" class=\"data row6 col1\" >5.313093</td>\n",
              "    </tr>\n",
              "    <tr>\n",
              "      <th id=\"T_920f8_level0_row7\" class=\"row_heading level0 row7\" >11</th>\n",
              "      <td id=\"T_920f8_row7_col0\" class=\"data row7 col0\" >R</td>\n",
              "      <td id=\"T_920f8_row7_col1\" class=\"data row7 col1\" >4.895636</td>\n",
              "    </tr>\n",
              "    <tr>\n",
              "      <th id=\"T_920f8_level0_row8\" class=\"row_heading level0 row8\" >4</th>\n",
              "      <td id=\"T_920f8_row8_col0\" class=\"data row8 col0\" >C</td>\n",
              "      <td id=\"T_920f8_row8_col1\" class=\"data row8 col1\" >4.895636</td>\n",
              "    </tr>\n",
              "    <tr>\n",
              "      <th id=\"T_920f8_level0_row9\" class=\"row_heading level0 row9\" >9</th>\n",
              "      <td id=\"T_920f8_row9_col0\" class=\"data row9 col0\" >N</td>\n",
              "      <td id=\"T_920f8_row9_col1\" class=\"data row9 col1\" >4.592030</td>\n",
              "    </tr>\n",
              "    <tr>\n",
              "      <th id=\"T_920f8_level0_row10\" class=\"row_heading level0 row10\" >10</th>\n",
              "      <td id=\"T_920f8_row10_col0\" class=\"data row10 col0\" >K</td>\n",
              "      <td id=\"T_920f8_row10_col1\" class=\"data row10 col1\" >4.554080</td>\n",
              "    </tr>\n",
              "    <tr>\n",
              "      <th id=\"T_920f8_level0_row11\" class=\"row_heading level0 row11\" >1</th>\n",
              "      <td id=\"T_920f8_row11_col0\" class=\"data row11 col0\" >A</td>\n",
              "      <td id=\"T_920f8_row11_col1\" class=\"data row11 col1\" >4.516129</td>\n",
              "    </tr>\n",
              "    <tr>\n",
              "      <th id=\"T_920f8_level0_row12\" class=\"row_heading level0 row12\" >19</th>\n",
              "      <td id=\"T_920f8_row12_col0\" class=\"data row12 col0\" >P</td>\n",
              "      <td id=\"T_920f8_row12_col1\" class=\"data row12 col1\" >4.440228</td>\n",
              "    </tr>\n",
              "    <tr>\n",
              "      <th id=\"T_920f8_level0_row13\" class=\"row_heading level0 row13\" >16</th>\n",
              "      <td id=\"T_920f8_row13_col0\" class=\"data row13 col0\" >F</td>\n",
              "      <td id=\"T_920f8_row13_col1\" class=\"data row13 col1\" >4.326376</td>\n",
              "    </tr>\n",
              "    <tr>\n",
              "      <th id=\"T_920f8_level0_row14\" class=\"row_heading level0 row14\" >3</th>\n",
              "      <td id=\"T_920f8_row14_col0\" class=\"data row14 col0\" >D</td>\n",
              "      <td id=\"T_920f8_row14_col1\" class=\"data row14 col1\" >3.415560</td>\n",
              "    </tr>\n",
              "    <tr>\n",
              "      <th id=\"T_920f8_level0_row15\" class=\"row_heading level0 row15\" >2</th>\n",
              "      <td id=\"T_920f8_row15_col0\" class=\"data row15 col0\" >Q</td>\n",
              "      <td id=\"T_920f8_row15_col1\" class=\"data row15 col1\" >3.225806</td>\n",
              "    </tr>\n",
              "    <tr>\n",
              "      <th id=\"T_920f8_level0_row16\" class=\"row_heading level0 row16\" >14</th>\n",
              "      <td id=\"T_920f8_row16_col0\" class=\"data row16 col0\" >H</td>\n",
              "      <td id=\"T_920f8_row16_col1\" class=\"data row16 col1\" >2.618596</td>\n",
              "    </tr>\n",
              "    <tr>\n",
              "      <th id=\"T_920f8_level0_row17\" class=\"row_heading level0 row17\" >8</th>\n",
              "      <td id=\"T_920f8_row17_col0\" class=\"data row17 col0\" >E</td>\n",
              "      <td id=\"T_920f8_row17_col1\" class=\"data row17 col1\" >2.314991</td>\n",
              "    </tr>\n",
              "    <tr>\n",
              "      <th id=\"T_920f8_level0_row18\" class=\"row_heading level0 row18\" >15</th>\n",
              "      <td id=\"T_920f8_row18_col0\" class=\"data row18 col0\" >M</td>\n",
              "      <td id=\"T_920f8_row18_col1\" class=\"data row18 col1\" >1.745731</td>\n",
              "    </tr>\n",
              "    <tr>\n",
              "      <th id=\"T_920f8_level0_row19\" class=\"row_heading level0 row19\" >18</th>\n",
              "      <td id=\"T_920f8_row19_col0\" class=\"data row19 col0\" >W</td>\n",
              "      <td id=\"T_920f8_row19_col1\" class=\"data row19 col1\" >1.555977</td>\n",
              "    </tr>\n",
              "  </tbody>\n",
              "</table>\n"
            ]
          },
          "metadata": {},
          "execution_count": 113
        }
      ]
    },
    {
      "cell_type": "code",
      "source": [
        "ax = sns.barplot(x=\"amino_acid\", y=\"composition\", data=r,\n",
        "                 palette=\"Blues_d\")"
      ],
      "metadata": {
        "colab": {
          "base_uri": "https://localhost:8080/",
          "height": 450
        },
        "id": "ruO1C2__5aWB",
        "outputId": "4f8a64b1-80c6-4738-c4fa-8323ccc2a3fe"
      },
      "execution_count": 111,
      "outputs": [
        {
          "output_type": "display_data",
          "data": {
            "text/plain": [
              "<Figure size 640x480 with 1 Axes>"
            ],
            "image/png": "[encoded data removed]"
          },
          "metadata": {}
        }
      ]
    },
    {
      "cell_type": "markdown",
      "source": [
        "#**ORF**\n",
        "\n",
        "\n",
        "In the field of molecular genetics, an open reading frame (**ORF**) refers to a specific region within a genetic sequence that has the potential to be translated into a protein. An ORF is characterized by a consecutive series of codons, starting with a start codon and ending with a stop codon. The presence of an ATG codon within the ORF typically indicates the initiation site for translation, marking the beginning of protein synthesis."
      ],
      "metadata": {
        "id": "DdSFt96j6LFk"
      }
    },
    {
      "cell_type": "code",
      "source": [
        "#ORF\n",
        "orf_strands = []\n",
        "# generate ORFs\n",
        "for seq in ncov_protein.split(\"STOP\"):\n",
        "    for nu in range(len(seq)-1, -1, -1):\n",
        "        if seq[nu] == \"M\":\n",
        "            orf_strands.append(seq[nu:]+\"STOP\")\n",
        "\n",
        "orf_strands[0:10]"
      ],
      "metadata": {
        "colab": {
          "base_uri": "https://localhost:8080/"
        },
        "id": "Ji5fzXZZ6Mt8",
        "outputId": "71b057ad-18f5-4296-a952-31999207f0b1"
      },
      "execution_count": 114,
      "outputs": [
        {
          "output_type": "execute_result",
          "data": {
            "text/plain": [
              "[Seq('MEQH*NSNTTNRCVIC*LGVLTVKSHCVLKKSKDIWTKSKDSII*GVGGPVDVC...TOP'),\n",
              " Seq('MLYVINV*SFILKLVSIDIIVIVCMEQH*NSNTTNRCVIC*LGVLTVKSHCVLK...TOP'),\n",
              " Seq('MGIHMLYVINV*SFILKLVSIDIIVIVCMEQH*NSNTTNRCVIC*LGVLTVKSH...TOP'),\n",
              " Seq('MTLLFGIYA*YIEMGIHMLYVINV*SFILKLVSIDIIVIVCMEQH*NSNTTNRC...TOP'),\n",
              " Seq('MI*Y*NVCTASNSYCDVRYMTLLFGIYA*YIEMGIHMLYVINV*SFILKLVSID...TOP'),\n",
              " Seq('MGVCKPFWVTHLQATYIIILNYNNSCIKLRA*PKSVEPKPVSIKADILCTKREL...TOP'),\n",
              " Seq('MYIVSYKINHYAPTPYIPLLGTYFWLVLTNLIAYLA*GLNF*GQLNVTLVHT*T...TOP'),\n",
              " Seq('MCNY*ITMYIVSYKINHYAPTPYIPLLGTYFWLVLTNLIAYLA*GLNF*GQLNV...TOP'),\n",
              " Seq('MV*TCTFPACHACQIPVFLTCTACQPFHCFLHCTMCNY*ITMYIVSYKINHYAP...TOP'),\n",
              " Seq('MSATMV*TCTFPACHACQIPVFLTCTACQPFHCFLHCTMCNY*ITMYIVSYKIN...TOP')]"
            ]
          },
          "metadata": {},
          "execution_count": 114
        }
      ]
    },
    {
      "cell_type": "code",
      "source": [
        "#Total number of ORF strands\n",
        "len(orf_strands)"
      ],
      "metadata": {
        "colab": {
          "base_uri": "https://localhost:8080/"
        },
        "id": "EskAIWgY6MqL",
        "outputId": "c823dad5-f2cd-4939-d8bb-8255804bfcc0"
      },
      "execution_count": 115,
      "outputs": [
        {
          "output_type": "execute_result",
          "data": {
            "text/plain": [
              "46"
            ]
          },
          "metadata": {},
          "execution_count": 115
        }
      ]
    }
  ]
}